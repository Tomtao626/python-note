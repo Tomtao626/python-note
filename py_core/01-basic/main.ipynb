{
 "cells": [
  {
   "cell_type": "code",
   "execution_count": 7,
   "metadata": {
    "collapsed": true
   },
   "outputs": [
    {
     "data": {
      "text/plain": "0"
     },
     "execution_count": 7,
     "metadata": {},
     "output_type": "execute_result"
    }
   ],
   "source": [
    "l = [1,\"test11\",3.1415926]\n",
    "l.count(3)"
   ]
  },
  {
   "cell_type": "code",
   "execution_count": 12,
   "outputs": [
    {
     "name": "stdout",
     "output_type": "stream",
     "text": [
      "104\n",
      "48\n"
     ]
    }
   ],
   "source": [
    "l = [1,2,3]\n",
    "print(l.__sizeof__())\n",
    "t = (1,2,3)\n",
    "print(t.__sizeof__())"
   ],
   "metadata": {
    "collapsed": false
   }
  },
  {
   "cell_type": "code",
   "execution_count": 15,
   "outputs": [
    {
     "name": "stdout",
     "output_type": "stream",
     "text": [
      "40\n",
      "72\n",
      "72\n",
      "72\n",
      "72\n",
      "104\n"
     ]
    }
   ],
   "source": [
    "l = []\n",
    "print(l.__sizeof__())\n",
    "l.append(1)\n",
    "print(l.__sizeof__())\n",
    "l.append(2)\n",
    "print(l.__sizeof__())\n",
    "l.append(3)\n",
    "print(l.__sizeof__())\n",
    "l.append(2)\n",
    "print(l.__sizeof__())\n",
    "l.append(3)\n",
    "print(l.__sizeof__())"
   ],
   "metadata": {
    "collapsed": false
   }
  },
  {
   "cell_type": "code",
   "execution_count": 16,
   "outputs": [
    {
     "name": "stdout",
     "output_type": "stream",
     "text": [
      "0.046208755999941786\n",
      "0.009252004000245506\n"
     ]
    }
   ],
   "source": [
    "import timeit\n",
    "\n",
    "print(timeit.timeit('l=[1,2,3,4,5,6]'))\n",
    "print(timeit.timeit('l=(1,2,3,4,5,6)'))"
   ],
   "metadata": {
    "collapsed": false
   }
  },
  {
   "cell_type": "code",
   "execution_count": 22,
   "outputs": [
    {
     "name": "stdout",
     "output_type": "stream",
     "text": [
      "0.0075512359999265755\n",
      "0.006128987000010966\n"
     ]
    }
   ],
   "source": [
    "import timeit\n",
    "print(timeit.timeit(\"'l=[1,2,3,4,5,6]' 'y=l[4]'\")) #\n",
    "print(timeit.timeit(\"'l=(1,2,3,4,5,6)' 'y=l[4]'\")) #"
   ],
   "metadata": {
    "collapsed": false
   }
  },
  {
   "cell_type": "code",
   "execution_count": 1,
   "outputs": [
    {
     "name": "stdout",
     "output_type": "stream",
     "text": [
      "True\n"
     ]
    }
   ],
   "source": [
    "d = {\"name\":\"zhangsan\", \"age\":18}\n",
    "d1 = dict(name=\"zhangsan\",age=18)\n",
    "d2 = dict({\"name\":\"zhangsan\", \"age\":18})\n",
    "d3 = dict([(\"name\",\"zhangsan\"),(\"age\",18)])\n",
    "print(d==d1==d2==d3)"
   ],
   "metadata": {
    "collapsed": false
   }
  },
  {
   "cell_type": "code",
   "execution_count": 6,
   "outputs": [
    {
     "data": {
      "text/plain": "1"
     },
     "execution_count": 6,
     "metadata": {},
     "output_type": "execute_result"
    }
   ],
   "source": [
    "s = {1, 2, 3}\n",
    "s.add(4) # 增加元素4到集合\n",
    "# {1, 2, 3, 4}\n",
    "s.remove(4) # 从集合中删除元素4\n",
    "q = s.pop() # 集合的 pop() 操作是删除集合中最后一个元素，可是集合本身是无序的，你无法知道会删除哪个元素，因此这个操作得谨慎使用\n",
    "q"
   ],
   "metadata": {
    "collapsed": false
   }
  },
  {
   "cell_type": "code",
   "execution_count": 8,
   "outputs": [
    {
     "name": "stdout",
     "output_type": "stream",
     "text": [
      "[('a', 1), ('b', 5), ('c', 4), ('d', 7), ('e', 2)]\n",
      "[('a', 1), ('e', 2), ('c', 4), ('b', 5), ('d', 7)]\n"
     ]
    }
   ],
   "source": [
    "d = {'a':1, 'c':4, 'd':7, 'e':2, 'b':5}\n",
    "d_sorted_key = sorted(d.items(), key=lambda x:x[0]) # 根据字典key的升序\n",
    "d_sorted_value = sorted(d.items(), key=lambda x:x[1]) # 根据字典value升序\n",
    "print(d_sorted_key)\n",
    "print(d_sorted_value)"
   ],
   "metadata": {
    "collapsed": false
   }
  },
  {
   "cell_type": "code",
   "execution_count": 2,
   "outputs": [
    {
     "name": "stdout",
     "output_type": "stream",
     "text": [
      "time elpase using list : 48.48732854700002\n",
      "time elpase using set : 0.010405220000023974\n"
     ]
    }
   ],
   "source": [
    "import time\n",
    "id = [x for x in range(0, 100000)]\n",
    "price = [x for x in range(200000, 300000)]\n",
    "products = list(zip(id, price))\n",
    "\n",
    "def find_unique_price_using_list(products):\n",
    "    unique_price_list = []\n",
    "    for _, price in products: # A\n",
    "        if price not in unique_price_list: # B\n",
    "            unique_price_list.append(price)\n",
    "    return len(unique_price_list)\n",
    "\n",
    "def find_unique_price_using_set(products):\n",
    "    unique_price_set = set()\n",
    "    for _, price in products:\n",
    "        unique_price_set.add(price)\n",
    "    return len(unique_price_set)\n",
    "\n",
    "# list\n",
    "start_using_list = time.perf_counter()\n",
    "find_unique_price_using_list(products)\n",
    "end_using_list = time.perf_counter()\n",
    "print(f\"time elpase using list : {end_using_list-start_using_list}\")\n",
    "\n",
    "# set\n",
    "start_using_set = time.perf_counter()\n",
    "find_unique_price_using_set(products)\n",
    "end_using_set = time.perf_counter()\n",
    "print(f\"time elpase using set : {end_using_set-start_using_set}\")"
   ],
   "metadata": {
    "collapsed": false
   }
  },
  {
   "cell_type": "code",
   "execution_count": 16,
   "outputs": [
    {
     "name": "stdout",
     "output_type": "stream",
     "text": [
      "['__all__', '__block_openssl_constructor', '__builtin_constructor_cache', '__builtins__', '__cached__', '__doc__', '__file__', '__get_builtin_constructor', '__loader__', '__name__', '__package__', '__spec__', '_hashlib', 'algorithms_available', 'algorithms_guaranteed', 'blake2b', 'blake2s', 'md5', 'new', 'pbkdf2_hmac', 'scrypt', 'sha1', 'sha224', 'sha256', 'sha384', 'sha3_224', 'sha3_256', 'sha3_384', 'sha3_512', 'sha512', 'shake_128', 'shake_256']\n",
      "ModuleSpec(name='hashlib', loader=<_frozen_importlib_external.SourceFileLoader object at 0x7f90298797f0>, origin='/Library/Frameworks/Python.framework/Versions/3.9/lib/python3.9/hashlib.py')\n",
      "None\n",
      "  8           0 BUILD_MAP                0\n",
      "              2 STORE_FAST               0 (d)\n",
      "\n",
      "  9           4 LOAD_GLOBAL              0 (print)\n",
      "              6 LOAD_FAST                0 (d)\n",
      "              8 CALL_FUNCTION            1\n",
      "             10 POP_TOP\n",
      "             12 LOAD_CONST               0 (None)\n",
      "             14 RETURN_VALUE\n",
      "None\n"
     ]
    }
   ],
   "source": [
    "import hashlib\n",
    "print(dir(hashlib))\n",
    "print(hashlib.__spec__)\n",
    "print(\n",
    "{'name': 'mike', 'dob': '1999-01-01', 'gender': 'male'}.__init_subclass__())\n",
    "import dis\n",
    "def run():\n",
    "    d = {}\n",
    "    print(d)\n",
    "print(dis.dis(run))"
   ],
   "metadata": {
    "collapsed": false
   }
  },
  {
   "cell_type": "code",
   "execution_count": 20,
   "outputs": [],
   "source": [
    "import re\n",
    "\n",
    "# 你不用太关心这个函数\n",
    "def parse(text):\n",
    "    # 使用正则表达式去除标点符号和换行符\n",
    "    text = re.sub(r'[^\\w ]', ' ', text)\n",
    "\n",
    "    # 转为小写\n",
    "    text = text.lower()\n",
    "\n",
    "    # 生成所有单词的列表\n",
    "    word_list = text.split(' ')\n",
    "\n",
    "    # 去除空白单词\n",
    "    word_list = filter(None, word_list)\n",
    "\n",
    "    # 生成单词和词频的字典\n",
    "    word_cnt = {}\n",
    "    for word in word_list:\n",
    "        if word not in word_cnt:\n",
    "            word_cnt[word] = 0\n",
    "        word_cnt[word] += 1\n",
    "\n",
    "    # 按照词频排序\n",
    "    sorted_word_cnt = sorted(word_cnt.items(), key=lambda kv: kv[1], reverse=True)\n",
    "\n",
    "    return sorted_word_cnt\n",
    "\n",
    "with open('in.txt', 'r') as fin:\n",
    "    text = fin.read()\n",
    "\n",
    "word_and_freq = parse(text)\n",
    "\n",
    "with open('out.txt', 'w') as fout:\n",
    "    for word, freq in word_and_freq:\n",
    "        fout.write('{} {}\\n'.format(word, freq))"
   ],
   "metadata": {
    "collapsed": false
   }
  },
  {
   "cell_type": "code",
   "execution_count": 27,
   "outputs": [
    {
     "name": "stdout",
     "output_type": "stream",
     "text": [
      "<class 'int'>\n",
      "<class 'float'>\n",
      "<class 'str'>\n",
      "<class 'list'>\n",
      "<class 'dict'>\n",
      "<class 'set'>\n",
      "<class 'tuple'>\n",
      "<class 'int'> <class 'float'> <class 'str'> <class 'list'> <class 'dict'> <class 'set'> <class 'tuple'>\n"
     ]
    }
   ],
   "source": [
    "from typing import AnyStr, SupportsInt, SupportsFloat, List, Set, Dict, Tuple\n",
    "# 整型，\n",
    "def func_int(param_int: SupportsInt):\n",
    "    print(type(param_int))\n",
    "# 浮点，\n",
    "def func_float(param_float: SupportsFloat):\n",
    "    print(type(param_float))\n",
    "# 字符串，\n",
    "def func_str(param_str: AnyStr):\n",
    "    print(type(param_str))\n",
    "# 列表，\n",
    "def func_list(param_list: List):\n",
    "    print(type(param_list))\n",
    "# 字典，\n",
    "def func_dict(param_dict: Dict):\n",
    "    print(type(param_dict))\n",
    "# 集合，\n",
    "def func_set(param_set: Set):\n",
    "    print(type(param_set))\n",
    "# 元组\n",
    "def func_tuple(param_tuple: Tuple):\n",
    "    print(type(param_tuple))\n",
    "def func_params(param_int: SupportsInt, param_float: SupportsFloat, param_str: AnyStr, param_list: List, param_dict: Dict, param_set: Set, param_tuple: Tuple):\n",
    "    print(type(param_int), type(param_float), type(param_str), type(param_list), type(param_dict), type(param_set), type(param_tuple))\n",
    "func_int(param_int=123)\n",
    "func_float(param_float=12.3)\n",
    "func_str(param_str=\"123\")\n",
    "func_list(param_list=[1,2,3])\n",
    "func_dict(param_dict={\"1\":1,\"2\":2,\"3\":3})\n",
    "func_set(param_set={'1','2','3'})\n",
    "func_tuple(param_tuple=(1,2,3,))\n",
    "func_params(123,12.3,\"123\",[1,2,3],{\"1\":1,\"2\":2,\"3\":3},{'1','2',3},(1,2,3,))\n"
   ],
   "metadata": {
    "collapsed": false
   }
  },
  {
   "cell_type": "code",
   "execution_count": 31,
   "outputs": [
    {
     "name": "stdout",
     "output_type": "stream",
     "text": [
      "362880\n"
     ]
    }
   ],
   "source": [
    "from functools import reduce\n",
    "\n",
    "l = [1,2,3,4,5,6,7,8,9]\n",
    "product = reduce(lambda x, y: x*y, l)\n",
    "print(product)\n"
   ],
   "metadata": {
    "collapsed": false
   }
  },
  {
   "cell_type": "code",
   "execution_count": null,
   "outputs": [],
   "source": [],
   "metadata": {
    "collapsed": false
   }
  }
 ],
 "metadata": {
  "kernelspec": {
   "display_name": "Python 3",
   "language": "python",
   "name": "python3"
  },
  "language_info": {
   "codemirror_mode": {
    "name": "ipython",
    "version": 2
   },
   "file_extension": ".py",
   "mimetype": "text/x-python",
   "name": "python",
   "nbconvert_exporter": "python",
   "pygments_lexer": "ipython2",
   "version": "2.7.6"
  }
 },
 "nbformat": 4,
 "nbformat_minor": 0
}
