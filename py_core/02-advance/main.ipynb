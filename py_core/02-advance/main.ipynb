{
 "cells": [
  {
   "cell_type": "code",
   "execution_count": 1,
   "metadata": {
    "collapsed": true
   },
   "outputs": [
    {
     "name": "stdout",
     "output_type": "stream",
     "text": [
      "True\n"
     ]
    }
   ],
   "source": [
    "a = 1\n",
    "b = 1\n",
    "print(a==b)"
   ]
  },
  {
   "cell_type": "code",
   "execution_count": 2,
   "outputs": [
    {
     "name": "stdout",
     "output_type": "stream",
     "text": [
      "140482668796208 --- 140482668796208\n",
      "True\n"
     ]
    }
   ],
   "source": [
    "a = 1\n",
    "b = 1\n",
    "print(id(a), '---', id(b))\n",
    "print(a is b)"
   ],
   "metadata": {
    "collapsed": false
   }
  },
  {
   "cell_type": "code",
   "execution_count": 4,
   "outputs": [
    {
     "name": "stdout",
     "output_type": "stream",
     "text": [
      "True\n",
      "140482837763632\n",
      "140482837764016\n",
      "False\n"
     ]
    }
   ],
   "source": [
    "a = 257\n",
    "b = 257\n",
    "print(a == b)\n",
    "print(id(a))\n",
    "print(id(b))\n",
    "print(a is b)"
   ],
   "metadata": {
    "collapsed": false
   }
  },
  {
   "cell_type": "code",
   "execution_count": 9,
   "outputs": [
    {
     "name": "stdout",
     "output_type": "stream",
     "text": [
      "[1, 2, 3] ---- [1, 2, 3]\n",
      "False\n",
      "True\n",
      "{1, 2, 3} --- {1, 2, 3}\n",
      "False\n",
      "True\n"
     ]
    }
   ],
   "source": [
    "l1 = [1, 2, 3]\n",
    "l2 = list(l1)\n",
    "print(l1, '----', l2)\n",
    "print(l1 is l2)\n",
    "print(l1 == l2)\n",
    "\n",
    "s1 = set([1,2,3])\n",
    "s2 = set(s1)\n",
    "print(s1, '---', s2)\n",
    "print(s1 is s2)\n",
    "print(s1 == s2)"
   ],
   "metadata": {
    "collapsed": false
   }
  },
  {
   "cell_type": "code",
   "execution_count": 10,
   "outputs": [
    {
     "name": "stdout",
     "output_type": "stream",
     "text": [
      "[1, 2, 3] --- [1, 2, 3]\n",
      "False\n",
      "True\n"
     ]
    }
   ],
   "source": [
    "l3 = l1[:]\n",
    "print(l1, '---', l3) # [1, 2, 3] ---- [1, 2, 3]\n",
    "print(l1 is l3) # False\n",
    "print(l1 == l3) # True"
   ],
   "metadata": {
    "collapsed": false
   }
  },
  {
   "cell_type": "code",
   "execution_count": 11,
   "outputs": [
    {
     "name": "stdout",
     "output_type": "stream",
     "text": [
      "(1, 2, 3) --- (1, 2, 3)\n",
      "True\n",
      "True\n"
     ]
    }
   ],
   "source": [
    "t1 = (1,2,3)\n",
    "t2 = tuple(t1)\n",
    "print(t1, '---', t2)\n",
    "print(t1 is t2)\n",
    "print(t1 == t2)"
   ],
   "metadata": {
    "collapsed": false
   }
  },
  {
   "cell_type": "code",
   "execution_count": 14,
   "outputs": [
    {
     "name": "stdout",
     "output_type": "stream",
     "text": [
      "[[1, 2, 3], (10, 20), 50]\n",
      "[[1, 2, 3], (10, 20)]\n",
      "[[1, 2, 3], (10, 20, 30, 40), 50]\n",
      "[[1, 2, 3], (10, 20)]\n"
     ]
    }
   ],
   "source": [
    "l1 = [[1,2], (10,20)]\n",
    "l2 = list(l1)\n",
    "l1.append(50)\n",
    "l1[0].append(3)\n",
    "\n",
    "print(l1)\n",
    "print(l2)\n",
    "\n",
    "l1[1]+=(30,40)\n",
    "print(l1)\n",
    "print(l2)"
   ],
   "metadata": {
    "collapsed": false
   }
  },
  {
   "cell_type": "code",
   "execution_count": 15,
   "outputs": [
    {
     "name": "stdout",
     "output_type": "stream",
     "text": [
      "[[1, 2, 3], (10, 20), 50]\n",
      "[[1, 2], (10, 20)]\n"
     ]
    }
   ],
   "source": [
    "import copy\n",
    "l1 = [[1,2], (10,20)]\n",
    "l2 = copy.deepcopy(l1)\n",
    "l1.append(50)\n",
    "l1[0].append(3)\n",
    "print(l1)\n",
    "print(l2)"
   ],
   "metadata": {
    "collapsed": false
   }
  },
  {
   "cell_type": "code",
   "execution_count": 16,
   "outputs": [
    {
     "ename": "RecursionError",
     "evalue": "maximum recursion depth exceeded in comparison",
     "output_type": "error",
     "traceback": [
      "\u001B[0;31m---------------------------------------------------------------------------\u001B[0m",
      "\u001B[0;31mRecursionError\u001B[0m                            Traceback (most recent call last)",
      "Cell \u001B[0;32mIn [16], line 8\u001B[0m\n\u001B[1;32m      5\u001B[0m y \u001B[38;5;241m=\u001B[39m copy\u001B[38;5;241m.\u001B[39mdeepcopy(x)\n\u001B[1;32m      7\u001B[0m \u001B[38;5;66;03m# 以下命令的输出是？\u001B[39;00m\n\u001B[0;32m----> 8\u001B[0m \u001B[43mx\u001B[49m\u001B[43m \u001B[49m\u001B[38;5;241;43m==\u001B[39;49m\u001B[43m \u001B[49m\u001B[43my\u001B[49m\n",
      "\u001B[0;31mRecursionError\u001B[0m: maximum recursion depth exceeded in comparison"
     ]
    }
   ],
   "source": [
    "\n",
    "import copy\n",
    "x = [1]\n",
    "x.append(x)\n",
    "\n",
    "y = copy.deepcopy(x)\n",
    "\n",
    "# 以下命令的输出是？\n",
    "x == y"
   ],
   "metadata": {
    "collapsed": false
   }
  },
  {
   "cell_type": "code",
   "execution_count": 17,
   "outputs": [
    {
     "name": "stdout",
     "output_type": "stream",
     "text": [
      "[1, 2, 3, 4]\n"
     ]
    }
   ],
   "source": [
    "def func(l):\n",
    "    l.append(4)\n",
    "\n",
    "l2 = [1,2,3]\n",
    "func(l2)\n",
    "print(l2)"
   ],
   "metadata": {
    "collapsed": false
   }
  },
  {
   "cell_type": "code",
   "execution_count": 18,
   "outputs": [
    {
     "name": "stdout",
     "output_type": "stream",
     "text": [
      "hello, china\n"
     ]
    }
   ],
   "source": [
    "def func(message):\n",
    "    print(f\"hello, {message}\")\n",
    "\n",
    "send_message = func\n",
    "send_message(\"china\")"
   ],
   "metadata": {
    "collapsed": false
   }
  },
  {
   "cell_type": "code",
   "execution_count": 19,
   "outputs": [
    {
     "name": "stdout",
     "output_type": "stream",
     "text": [
      "wrapper of decorator\n",
      "hello, ASML\n"
     ]
    }
   ],
   "source": [
    "def my_decorator(func):\n",
    "    def wrapper(message):\n",
    "        print(\"wrapper of decorator\")\n",
    "        func(message)\n",
    "    return wrapper\n",
    "\n",
    "@my_decorator\n",
    "def greeter(message):\n",
    "    print(f\"hello, {message}\")\n",
    "\n",
    "greeter(\"ASML\")"
   ],
   "metadata": {
    "collapsed": false
   }
  },
  {
   "cell_type": "code",
   "execution_count": 22,
   "outputs": [
    {
     "name": "stdout",
     "output_type": "stream",
     "text": [
      "wrapper of decorator\n",
      "NVDIA\n",
      "wrapper of decorator\n",
      "NVDIA\n",
      "wrapper of decorator\n",
      "NVDIA\n",
      "wrapper of decorator\n",
      "NVDIA\n",
      "wrapper\n"
     ]
    }
   ],
   "source": [
    "def rpeat(num):\n",
    "    def my_decorator(func):\n",
    "        def wrapper(*args, **kwargs):\n",
    "            for i in range(num):\n",
    "                print(\"wrapper of decorator\")\n",
    "                func(*args, **kwargs)\n",
    "        return wrapper\n",
    "    return my_decorator\n",
    "\n",
    "@rpeat(4)\n",
    "def greeter(message):\n",
    "    print(message)\n",
    "\n",
    "greeter(\"NVDIA\")\n",
    "print(greeter.__name__)"
   ],
   "metadata": {
    "collapsed": false
   }
  },
  {
   "cell_type": "code",
   "execution_count": 23,
   "outputs": [
    {
     "name": "stdout",
     "output_type": "stream",
     "text": [
      "wrapper of decorator\n",
      "hello, Apple\n",
      "greeter\n"
     ]
    }
   ],
   "source": [
    "import functools\n",
    "\n",
    "def my_decorator(func):\n",
    "    @functools.wraps(func)\n",
    "    def wrapper(*args, **kwargs):\n",
    "        print(\"wrapper of decorator\")\n",
    "        func(*args, **kwargs)\n",
    "    return wrapper\n",
    "\n",
    "@my_decorator\n",
    "def greeter(message):\n",
    "    print(f\"hello, {message}\")\n",
    "\n",
    "greeter(\"Apple\")\n",
    "print(greeter.__name__)"
   ],
   "metadata": {
    "collapsed": false
   }
  },
  {
   "cell_type": "code",
   "execution_count": 26,
   "outputs": [
    {
     "name": "stdout",
     "output_type": "stream",
     "text": [
      "num of calls is 1\n",
      "hello, world\n",
      "num of calls is 2\n",
      "hello, world\n"
     ]
    }
   ],
   "source": [
    "class Count:\n",
    "    def __init__(self, func):\n",
    "        self.func = func\n",
    "        self.num_calls = 0\n",
    "\n",
    "    def __call__(self, *args, **kwargs):\n",
    "        self.num_calls += 1\n",
    "        print(f\"num of calls is {self.num_calls}\")\n",
    "        return self.func(*args, **kwargs)\n",
    "\n",
    "@Count\n",
    "def example():\n",
    "    print(\"hello, world\")\n",
    "\n",
    "example()\n",
    "\n",
    "example()"
   ],
   "metadata": {
    "collapsed": false
   }
  },
  {
   "cell_type": "code",
   "execution_count": 28,
   "outputs": [
    {
     "name": "stdout",
     "output_type": "stream",
     "text": [
      "decorator1\n",
      "decorator2\n",
      "hello, YYDS\n"
     ]
    }
   ],
   "source": [
    "import functools\n",
    "\n",
    "def decorator1(func):\n",
    "    @functools.wraps(func)\n",
    "    def wrapper(*args, **kwargs):\n",
    "        print(\"decorator1\")\n",
    "        func(*args, **kwargs)\n",
    "    return wrapper\n",
    "\n",
    "def decorator2(func):\n",
    "    @functools.wraps(func)\n",
    "    def wrapper(*args, **kwargs):\n",
    "        print(\"decorator2\")\n",
    "        func(*args, **kwargs)\n",
    "    return wrapper\n",
    "\n",
    "@decorator1\n",
    "@decorator2\n",
    "def greeter(message):\n",
    "    print(f\"hello, {message}\")\n",
    "\n",
    "greeter(\"YYDS\")"
   ],
   "metadata": {
    "collapsed": false
   }
  },
  {
   "cell_type": "code",
   "execution_count": 29,
   "outputs": [
    {
     "ename": "SyntaxError",
     "evalue": "invalid syntax (822909339.py, line 19)",
     "output_type": "error",
     "traceback": [
      "\u001B[0;36m  Cell \u001B[0;32mIn [29], line 19\u001B[0;36m\u001B[0m\n\u001B[0;31m    def post_comment(request, ...):\u001B[0m\n\u001B[0m                              ^\u001B[0m\n\u001B[0;31mSyntaxError\u001B[0m\u001B[0;31m:\u001B[0m invalid syntax\n"
     ]
    }
   ],
   "source": [
    "import functools\n",
    "\n",
    "\n",
    "def check_user_logged_in(request):\n",
    "    pass\n",
    "\n",
    "\n",
    "def authenticate(func):\n",
    "    @functools.wraps(func)\n",
    "    def wrapper(*args, **kwargs):\n",
    "        request = args[0]\n",
    "        if check_user_logged_in(request): # 如果用户处于登录状态\n",
    "            return func(*args, **kwargs)  # 执行函数post_comment\n",
    "        else:\n",
    "            return Exception(\"Authentication failed\")\n",
    "    return wrapper\n",
    "\n",
    "@authenticate\n",
    "def post_comment(request, ...):\n",
    "    ..."
   ],
   "metadata": {
    "collapsed": false
   }
  },
  {
   "cell_type": "code",
   "execution_count": 32,
   "outputs": [
    {
     "ename": "TypeError",
     "evalue": "load() missing 1 required positional argument: 'Loader'",
     "output_type": "error",
     "traceback": [
      "\u001B[0;31m---------------------------------------------------------------------------\u001B[0m",
      "\u001B[0;31mTypeError\u001B[0m                                 Traceback (most recent call last)",
      "Cell \u001B[0;32mIn [32], line 14\u001B[0m\n\u001B[1;32m      9\u001B[0m   \u001B[38;5;28;01mdef\u001B[39;00m \u001B[38;5;21m__repr__\u001B[39m(\u001B[38;5;28mself\u001B[39m):\n\u001B[1;32m     10\u001B[0m     \u001B[38;5;28;01mreturn\u001B[39;00m \u001B[38;5;124m\"\u001B[39m\u001B[38;5;132;01m%s\u001B[39;00m\u001B[38;5;124m(name=\u001B[39m\u001B[38;5;132;01m%r\u001B[39;00m\u001B[38;5;124m, hp=\u001B[39m\u001B[38;5;132;01m%r\u001B[39;00m\u001B[38;5;124m, ac=\u001B[39m\u001B[38;5;132;01m%r\u001B[39;00m\u001B[38;5;124m, attacks=\u001B[39m\u001B[38;5;132;01m%r\u001B[39;00m\u001B[38;5;124m)\u001B[39m\u001B[38;5;124m\"\u001B[39m \u001B[38;5;241m%\u001B[39m (\n\u001B[1;32m     11\u001B[0m        \u001B[38;5;28mself\u001B[39m\u001B[38;5;241m.\u001B[39m\u001B[38;5;18m__class__\u001B[39m\u001B[38;5;241m.\u001B[39m\u001B[38;5;18m__name__\u001B[39m, \u001B[38;5;28mself\u001B[39m\u001B[38;5;241m.\u001B[39mname, \u001B[38;5;28mself\u001B[39m\u001B[38;5;241m.\u001B[39mhp, \u001B[38;5;28mself\u001B[39m\u001B[38;5;241m.\u001B[39mac,\n\u001B[1;32m     12\u001B[0m        \u001B[38;5;28mself\u001B[39m\u001B[38;5;241m.\u001B[39mattacks)\n\u001B[0;32m---> 14\u001B[0m \u001B[43myaml\u001B[49m\u001B[38;5;241;43m.\u001B[39;49m\u001B[43mload\u001B[49m\u001B[43m(\u001B[49m\u001B[38;5;124;43m\"\"\"\u001B[39;49m\n\u001B[1;32m     15\u001B[0m \u001B[38;5;124;43m--- !Monster\u001B[39;49m\n\u001B[1;32m     16\u001B[0m \u001B[38;5;124;43mname: Cave spider\u001B[39;49m\n\u001B[1;32m     17\u001B[0m \u001B[38;5;124;43mhp: [2,6]    # 2d6\u001B[39;49m\n\u001B[1;32m     18\u001B[0m \u001B[38;5;124;43mac: 16\u001B[39;49m\n\u001B[1;32m     19\u001B[0m \u001B[38;5;124;43mattacks: [BITE, HURT]\u001B[39;49m\n\u001B[1;32m     20\u001B[0m \u001B[38;5;124;43m\"\"\"\u001B[39;49m\u001B[43m)\u001B[49m\n\u001B[1;32m     22\u001B[0m Monster(name\u001B[38;5;241m=\u001B[39m\u001B[38;5;124m'\u001B[39m\u001B[38;5;124mCave spider\u001B[39m\u001B[38;5;124m'\u001B[39m, hp\u001B[38;5;241m=\u001B[39m[\u001B[38;5;241m2\u001B[39m, \u001B[38;5;241m6\u001B[39m], ac\u001B[38;5;241m=\u001B[39m\u001B[38;5;241m16\u001B[39m, attacks\u001B[38;5;241m=\u001B[39m[\u001B[38;5;124m'\u001B[39m\u001B[38;5;124mBITE\u001B[39m\u001B[38;5;124m'\u001B[39m, \u001B[38;5;124m'\u001B[39m\u001B[38;5;124mHURT\u001B[39m\u001B[38;5;124m'\u001B[39m])\n\u001B[1;32m     24\u001B[0m \u001B[38;5;28mprint\u001B[39m(yaml\u001B[38;5;241m.\u001B[39mdump(Monster(\n\u001B[1;32m     25\u001B[0m     name\u001B[38;5;241m=\u001B[39m\u001B[38;5;124m'\u001B[39m\u001B[38;5;124mCave lizard\u001B[39m\u001B[38;5;124m'\u001B[39m, hp\u001B[38;5;241m=\u001B[39m[\u001B[38;5;241m3\u001B[39m,\u001B[38;5;241m6\u001B[39m], ac\u001B[38;5;241m=\u001B[39m\u001B[38;5;241m16\u001B[39m, attacks\u001B[38;5;241m=\u001B[39m[\u001B[38;5;124m'\u001B[39m\u001B[38;5;124mBITE\u001B[39m\u001B[38;5;124m'\u001B[39m,\u001B[38;5;124m'\u001B[39m\u001B[38;5;124mHURT\u001B[39m\u001B[38;5;124m'\u001B[39m])))\n",
      "\u001B[0;31mTypeError\u001B[0m: load() missing 1 required positional argument: 'Loader'"
     ]
    }
   ],
   "source": [
    "import yaml\n",
    "class Monster(yaml.YAMLObject):\n",
    "  yaml_tag = u'!Monster'\n",
    "  def __init__(self, name, hp, ac, attacks):\n",
    "    self.name = name\n",
    "    self.hp = hp\n",
    "    self.ac = ac\n",
    "    self.attacks = attacks\n",
    "  def __repr__(self):\n",
    "    return \"%s(name=%r, hp=%r, ac=%r, attacks=%r)\" % (\n",
    "       self.__class__.__name__, self.name, self.hp, self.ac,\n",
    "       self.attacks)\n",
    "\n",
    "yaml.load(\n",
    "\"\"\"\n",
    "--- !Monster\n",
    "name: Cave spider\n",
    "hp: [2,6]    # 2d6\n",
    "ac: 16\n",
    "attacks: [BITE, HURT]\n",
    "\"\"\")\n",
    "\n",
    "Monster(name='Cave spider', hp=[2, 6], ac=16, attacks=['BITE', 'HURT'])\n",
    "\n",
    "print(yaml.dump(Monster(\n",
    "    name='Cave lizard', hp=[3,6], ac=16, attacks=['BITE','HURT'])))"
   ],
   "metadata": {
    "collapsed": false
   }
  },
  {
   "cell_type": "code",
   "execution_count": null,
   "outputs": [],
   "source": [],
   "metadata": {
    "collapsed": false
   }
  },
  {
   "cell_type": "code",
   "execution_count": 34,
   "outputs": [
    {
     "name": "stdout",
     "output_type": "stream",
     "text": [
      "<class '__main__.MyClass'>\n",
      "<class 'type'>\n"
     ]
    }
   ],
   "source": [
    "class MyClass:\n",
    "    pass\n",
    "\n",
    "instance = MyClass()\n",
    "print(type(instance))\n",
    "print(type(MyClass))"
   ],
   "metadata": {
    "collapsed": false
   }
  },
  {
   "cell_type": "code",
   "execution_count": 35,
   "outputs": [
    {
     "name": "stdout",
     "output_type": "stream",
     "text": [
      "<class '__main__.MyClass'> <__main__.MyClass object at 0x7fc4b6f7b610>\n",
      "1\n"
     ]
    }
   ],
   "source": [
    "class MyClass:\n",
    "    data = 1\n",
    "\n",
    "instance = MyClass()\n",
    "print(MyClass, instance)\n",
    "print(instance.data)"
   ],
   "metadata": {
    "collapsed": false
   }
  },
  {
   "cell_type": "code",
   "execution_count": 37,
   "outputs": [
    {
     "name": "stdout",
     "output_type": "stream",
     "text": [
      "<class '__main__.MyClass'> <__main__.MyClass object at 0x7fc4b6f472b0>\n"
     ]
    }
   ],
   "source": [
    "MyClass = type('MyClass', (), {'data':1})\n",
    "instance = MyClass()\n",
    "print(MyClass, instance)"
   ],
   "metadata": {
    "collapsed": false
   }
  },
  {
   "cell_type": "code",
   "execution_count": 39,
   "outputs": [
    {
     "name": "stdout",
     "output_type": "stream",
     "text": [
      "1234 is iterable? False\n",
      "1234 is iterable? True\n",
      "[1, 2, 3, 4] is iterable? True\n",
      "{1, 2, 3, 4} is iterable? True\n",
      "{1: 1, 2: 2, 3: 3, 4: 4} is iterable? True\n",
      "(1, 2, 3, 4) is iterable? True\n"
     ]
    }
   ],
   "source": [
    "def is_iterable(param):\n",
    "    try:\n",
    "        iter(param)\n",
    "        return True\n",
    "    except TypeError:\n",
    "        return False\n",
    "\n",
    "params = [\n",
    "    1234,\n",
    "    '1234',\n",
    "    [1, 2, 3, 4],\n",
    "    set([1, 2, 3, 4]),\n",
    "    {1:1, 2:2, 3:3, 4:4},\n",
    "    (1, 2, 3, 4)\n",
    "]\n",
    "\n",
    "for i in params:\n",
    "    print(f\"{i} is iterable? {is_iterable(i)}\")"
   ],
   "metadata": {
    "collapsed": false
   }
  },
  {
   "cell_type": "code",
   "execution_count": 1,
   "outputs": [
    {
     "name": "stdout",
     "output_type": "stream",
     "text": [
      "initing iterator memory used: 47.90625 MB\n",
      "after iterator initiated memory used: 2058.5078125 MB\n",
      "4999999950000000\n",
      "after sum called memory used: 3888.28125 MB\n",
      "initing generator memory used: 30.125 MB\n",
      "after generator initiated memory used: 30.125 MB\n",
      "4999999950000000\n",
      "after sum called memory used: 30.21484375 MB\n"
     ]
    }
   ],
   "source": [
    "import os\n",
    "import psutil\n",
    "\n",
    "def show_memory_info(hint):\n",
    "    pid = os.getpid()\n",
    "    p = psutil.Process(pid)\n",
    "    info = p.memory_full_info()\n",
    "    memory = info.uss / 1024. / 1024\n",
    "    print(f\"{hint} memory used: {memory} MB\")\n",
    "\n",
    "\n",
    "def test_iterator():\n",
    "    show_memory_info('initing iterator')\n",
    "    list_1 = [i for i in range(100000000)]\n",
    "    show_memory_info('after iterator initiated')\n",
    "    print(sum(list_1))\n",
    "    show_memory_info('after sum called')\n",
    "\n",
    "def test_generator():\n",
    "    show_memory_info('initing generator')\n",
    "    list_2 = (i for i in range(100000000))\n",
    "    show_memory_info('after generator initiated')\n",
    "    print(sum(list_2))\n",
    "    show_memory_info('after sum called')\n",
    "\n",
    "test_iterator()\n",
    "test_generator()"
   ],
   "metadata": {
    "collapsed": false
   }
  },
  {
   "cell_type": "code",
   "execution_count": 16,
   "outputs": [
    {
     "name": "stdout",
     "output_type": "stream",
     "text": [
      "crawling url_1\n",
      "ok url_1\n",
      "crawling url_2\n",
      "ok url_2\n",
      "crawling url_3\n",
      "ok url_3\n",
      "crawling url_4\n",
      "ok url_4\n",
      "crawling url_5\n",
      "ok url_5\n",
      "crawling url_6\n",
      "ok url_6\n",
      "crawling url_7\n",
      "ok url_7\n",
      "CPU times: user 6.64 ms, sys: 2.57 ms, total: 9.21 ms\n",
      "Wall time: 28 s\n",
      "None\n"
     ]
    }
   ],
   "source": [
    "import time\n",
    "\n",
    "def crawl_page(url):\n",
    "    print(f\"crawling {url}\")\n",
    "    sleep_time = int(url.split('_')[-1])\n",
    "    time.sleep(sleep_time)\n",
    "    print(f\"ok {url}\")\n",
    "\n",
    "def main(urls):\n",
    "    for url in urls:\n",
    "        crawl_page(url)\n",
    "\n",
    "%time main(['url_1', 'url_2', 'url_3', 'url_4', 'url_5', 'url_6', 'url_7'])\n",
    "print(main(''))"
   ],
   "metadata": {
    "collapsed": false
   }
  },
  {
   "cell_type": "code",
   "execution_count": 21,
   "outputs": [
    {
     "name": "stdout",
     "output_type": "stream",
     "text": [
      "crawling url_1\n",
      "OK url_1\n",
      "crawling url_2\n",
      "OK url_2\n",
      "crawling url_3\n",
      "OK url_3\n",
      "crawling url_4\n",
      "OK url_4\n",
      "crawling url_5\n",
      "OK url_5\n",
      "crawling url_6\n",
      "OK url_6\n",
      "crawling url_7\n",
      "OK url_7\n",
      "<coroutine object main_async at 0x7fdb5509c8c0>\n",
      "<coroutine object crawl_page_async at 0x7fdb5509c8c0>\n"
     ]
    },
    {
     "name": "stderr",
     "output_type": "stream",
     "text": [
      "/var/folders/05/xk850z3d6q904bqtx0pqjr7w0000gn/T/ipykernel_2126/1518427547.py:16: RuntimeWarning: coroutine 'main_async' was never awaited\n",
      "  print(main_async(''))\n",
      "RuntimeWarning: Enable tracemalloc to get the object allocation traceback\n",
      "/var/folders/05/xk850z3d6q904bqtx0pqjr7w0000gn/T/ipykernel_2126/1518427547.py:17: RuntimeWarning: coroutine 'crawl_page_async' was never awaited\n",
      "  print(crawl_page_async('_1'))\n",
      "RuntimeWarning: Enable tracemalloc to get the object allocation traceback\n"
     ]
    }
   ],
   "source": [
    "\n",
    "import asyncio\n",
    "\n",
    "async def crawl_page_async(url):\n",
    "    print('crawling {}'.format(url))\n",
    "    sleep_time = int(url.split('_')[-1])\n",
    "    await asyncio.sleep(sleep_time)\n",
    "    print('OK {}'.format(url))\n",
    "\n",
    "async def main_async(urls):\n",
    "    for url in urls:\n",
    "        await crawl_page_async(url)\n",
    "\n",
    "await main_async(['url_1', 'url_2', 'url_3', 'url_4', 'url_5', 'url_6', 'url_7'])\n",
    "\n",
    "########## 输出 ##########\n",
    "print(main_async(''))\n",
    "print(crawl_page_async('_1'))"
   ],
   "metadata": {
    "collapsed": false
   }
  },
  {
   "cell_type": "code",
   "execution_count": 24,
   "outputs": [
    {
     "name": "stdout",
     "output_type": "stream",
     "text": [
      "crawling url_1\n",
      "crawling url_2\n",
      "crawling url_3\n",
      "crawling url_4\n",
      "crawling url_5\n",
      "crawling url_6\n",
      "crawling url_7\n",
      "OK url_1\n",
      "OK url_2\n",
      "OK url_3\n",
      "OK url_4\n",
      "OK url_5\n",
      "OK url_6\n",
      "OK url_7\n",
      "<coroutine object main_async at 0x7fdb5509ca40>\n",
      "<coroutine object crawl_page_async at 0x7fdb5509ca40>\n"
     ]
    },
    {
     "name": "stderr",
     "output_type": "stream",
     "text": [
      "/var/folders/05/xk850z3d6q904bqtx0pqjr7w0000gn/T/ipykernel_2126/867844277.py:15: RuntimeWarning: coroutine 'main_async' was never awaited\n",
      "  print(main_async('')) # <coroutine object main_async at 0x7fdb53f0f940>\n",
      "RuntimeWarning: Enable tracemalloc to get the object allocation traceback\n",
      "/var/folders/05/xk850z3d6q904bqtx0pqjr7w0000gn/T/ipykernel_2126/867844277.py:16: RuntimeWarning: coroutine 'crawl_page_async' was never awaited\n",
      "  print(crawl_page_async('_1')) # <coroutine object crawl_page_async at 0x7fdb5502ae40>\n",
      "RuntimeWarning: Enable tracemalloc to get the object allocation traceback\n"
     ]
    }
   ],
   "source": [
    "import asyncio\n",
    "\n",
    "async def crawl_page_async(url):\n",
    "    print('crawling {}'.format(url))\n",
    "    sleep_time = int(url.split('_')[-1])\n",
    "    await asyncio.sleep(sleep_time)\n",
    "    print('OK {}'.format(url))\n",
    "\n",
    "async def main_async(urls):\n",
    "    tasks = [asyncio.create_task(crawl_page_async(url)) for url in urls]\n",
    "    for task in tasks:\n",
    "        await task\n",
    "\n",
    "await main_async(['url_1', 'url_2', 'url_3', 'url_4', 'url_5', 'url_6', 'url_7'])\n",
    "print(main_async('')) # <coroutine object main_async at 0x7fdb53f0f940>\n",
    "print(crawl_page_async('_1')) # <coroutine object crawl_page_async at 0x7fdb5502ae40>"
   ],
   "metadata": {
    "collapsed": false
   }
  },
  {
   "cell_type": "code",
   "execution_count": 25,
   "outputs": [
    {
     "name": "stdout",
     "output_type": "stream",
     "text": [
      "crawling url_1\n",
      "crawling url_2\n",
      "crawling url_3\n",
      "crawling url_4\n",
      "crawling url_5\n",
      "crawling url_6\n",
      "crawling url_7\n",
      "OK url_1\n",
      "OK url_2\n",
      "OK url_3\n",
      "OK url_4\n",
      "OK url_5\n",
      "OK url_6\n",
      "OK url_7\n",
      "<coroutine object main_async at 0x7fdb55095140>\n",
      "<coroutine object crawl_page_async at 0x7fdb55095140>\n"
     ]
    },
    {
     "name": "stderr",
     "output_type": "stream",
     "text": [
      "/var/folders/05/xk850z3d6q904bqtx0pqjr7w0000gn/T/ipykernel_2126/1696052151.py:14: RuntimeWarning: coroutine 'main_async' was never awaited\n",
      "  print(main_async('')) # <coroutine object main_async at 0x7fdb53f0f940>\n",
      "RuntimeWarning: Enable tracemalloc to get the object allocation traceback\n",
      "/var/folders/05/xk850z3d6q904bqtx0pqjr7w0000gn/T/ipykernel_2126/1696052151.py:15: RuntimeWarning: coroutine 'crawl_page_async' was never awaited\n",
      "  print(crawl_page_async('_1')) # <coroutine object crawl_page_async at 0x7fdb5502ae40>\n",
      "RuntimeWarning: Enable tracemalloc to get the object allocation traceback\n"
     ]
    }
   ],
   "source": [
    "import asyncio\n",
    "\n",
    "async def crawl_page_async(url):\n",
    "    print('crawling {}'.format(url))\n",
    "    sleep_time = int(url.split('_')[-1])\n",
    "    await asyncio.sleep(sleep_time)\n",
    "    print('OK {}'.format(url))\n",
    "\n",
    "async def main_async(urls):\n",
    "    tasks = [asyncio.create_task(crawl_page_async(url)) for url in urls]\n",
    "    await asyncio.gather(*tasks)\n",
    "\n",
    "await main_async(['url_1', 'url_2', 'url_3', 'url_4', 'url_5', 'url_6', 'url_7'])\n",
    "print(main_async('')) # <coroutine object main_async at 0x7fdb53f0f940>\n",
    "print(crawl_page_async('_1')) # <coroutine object crawl_page_async at 0x7fdb5502ae40>"
   ],
   "metadata": {
    "collapsed": false
   }
  },
  {
   "cell_type": "code",
   "execution_count": 28,
   "outputs": [
    {
     "name": "stdout",
     "output_type": "stream",
     "text": [
      "before await\n",
      "worker_1 start\n",
      "worker_1 done\n",
      "awaited worker_1\n",
      "worker_2 start\n",
      "worker_2 done\n",
      "awaited worker_2\n"
     ]
    }
   ],
   "source": [
    "import asyncio\n",
    "\n",
    "async def worker_1():\n",
    "    print('worker_1 start')\n",
    "    await asyncio.sleep(1)\n",
    "    print('worker_1 done')\n",
    "\n",
    "async def worker_2():\n",
    "    print('worker_2 start')\n",
    "    await asyncio.sleep(2)\n",
    "    print('worker_2 done')\n",
    "\n",
    "async def main():\n",
    "    print('before await')\n",
    "    await worker_1()\n",
    "    print('awaited worker_1')\n",
    "    await worker_2()\n",
    "    print('awaited worker_2')\n",
    "\n",
    "await main()"
   ],
   "metadata": {
    "collapsed": false
   }
  },
  {
   "cell_type": "code",
   "execution_count": 29,
   "outputs": [
    {
     "name": "stdout",
     "output_type": "stream",
     "text": [
      "before await\n",
      "worker_1 start\n",
      "worker_2 start\n",
      "worker_1 done\n",
      "awaited worker_1\n",
      "worker_2 done\n",
      "awaited worker_2\n"
     ]
    }
   ],
   "source": [
    "import asyncio\n",
    "\n",
    "async def worker_1():\n",
    "    print('worker_1 start')\n",
    "    await asyncio.sleep(1)\n",
    "    print('worker_1 done')\n",
    "\n",
    "async def worker_2():\n",
    "    print('worker_2 start')\n",
    "    await asyncio.sleep(2)\n",
    "    print('worker_2 done')\n",
    "\n",
    "async def main():\n",
    "    task1 = asyncio.create_task(worker_1())\n",
    "    task2 = asyncio.create_task(worker_2())\n",
    "    print('before await')\n",
    "    await task1\n",
    "    print('awaited worker_1')\n",
    "    await task2\n",
    "    print('awaited worker_2')\n",
    "\n",
    "await main()"
   ],
   "metadata": {
    "collapsed": false
   }
  },
  {
   "cell_type": "code",
   "execution_count": 36,
   "outputs": [
    {
     "name": "stdout",
     "output_type": "stream",
     "text": [
      "扫黑行动 11月11日 https://img9.doubanio.com/view/photo/s_ratio_poster/public/p2883219876.jpg\n",
      "陪你在全世界长大 11月11日 https://img2.doubanio.com/view/photo/s_ratio_poster/public/p2879590432.jpg\n",
      "叫我郑先生 11月11日 https://img2.doubanio.com/view/photo/s_ratio_poster/public/p2882858722.jpg\n",
      "你好，珠峰 11月11日 https://img1.doubanio.com/view/photo/s_ratio_poster/public/p2882856388.jpg\n",
      "我们正年轻 11月11日 https://img1.doubanio.com/view/photo/s_ratio_poster/public/p2829300519.jpg\n",
      "浏阳河上 11月11日 https://img2.doubanio.com/view/photo/s_ratio_poster/public/p2831086052.jpg\n",
      "天之书 11月12日 https://img1.doubanio.com/view/photo/s_ratio_poster/public/p2880250328.jpg\n",
      "您好，北京 11月18日 https://img1.doubanio.com/view/photo/s_ratio_poster/public/p2882109748.jpg\n",
      "个十百千万 11月18日 https://img9.doubanio.com/view/photo/s_ratio_poster/public/p2883212096.jpg\n",
      "让这首歌作证 11月18日 https://img9.doubanio.com/view/photo/s_ratio_poster/public/p2882862234.jpg\n",
      "绑架游戏 12月23日 https://img1.doubanio.com/view/photo/s_ratio_poster/public/p2869898539.jpg\n",
      "龙马精神 12月31日 https://img3.doubanio.com/view/photo/s_ratio_poster/public/p2880320460.jpg\n",
      "保你平安 12月31日 https://img1.doubanio.com/view/photo/s_ratio_poster/public/p2882690157.jpg\n",
      "透明侠侣 12月31日 https://img1.doubanio.com/view/photo/s_ratio_poster/public/p2876027489.jpg\n",
      "绝望主夫 12月31日 https://img9.doubanio.com/view/photo/s_ratio_poster/public/p2882513134.jpg\n",
      "CPU times: user 586 ms, sys: 22.9 ms, total: 609 ms\n",
      "Wall time: 11.5 s\n"
     ]
    }
   ],
   "source": [
    "import requests\n",
    "from bs4 import BeautifulSoup\n",
    "\n",
    "def main():\n",
    "    headers = {\n",
    "    'Host':'movie.douban.com',\n",
    "    'User-Agent':'Mozilla/5.0 (Macintosh; Intel Mac OS X 10_15_7) AppleWebKit/537.36 (KHTML, like Gecko) Chrome/107.0.0.0 Safari/537.36',\n",
    "    'Cookie':'bid=F1l4ghtrj_4; ap_v=0,6.0; _pk_id.100001.4cf6=7931be2691d5364a.1667973825.1.1667973825.1667973825.; _pk_ses.100001.4cf6=*; __utma=30149280.1548109094.1667973825.1667973825.1667973825.1; __utmb=30149280.0.10.1667973825; __utmc=30149280; __utmz=30149280.1667973825.1.1.utmcsr=(direct)|utmccn=(direct)|utmcmd=(none); __utma=223695111.1889506471.1667973825.1667973825.1667973825.1; __utmb=223695111.0.10.1667973825; __utmc=223695111; __utmz=223695111.1667973825.1.1.utmcsr=(direct)|utmccn=(direct)|utmcmd=(none)'\n",
    "    }\n",
    "    url = \"https://movie.douban.com/cinema/later/beijing/\"\n",
    "    init_page = requests.get(url, headers=headers).content\n",
    "    init_soup = BeautifulSoup(init_page, 'lxml')\n",
    "    all_movies = init_soup.find('div', id=\"showing-soon\")\n",
    "    for each_movie in all_movies.find_all('div', class_=\"item\"):\n",
    "        all_a_tag = each_movie.find_all('a')\n",
    "        all_li_tag = each_movie.find_all('li')\n",
    "\n",
    "        movie_name = all_a_tag[1].text\n",
    "        url_to_fetch = all_a_tag[1]['href']\n",
    "        movie_date = all_li_tag[0].text\n",
    "\n",
    "        response_item = requests.get(url_to_fetch, headers=headers).content\n",
    "        soup_item = BeautifulSoup(response_item, 'lxml')\n",
    "        img_tag = soup_item.find('img')\n",
    "\n",
    "        print('{} {} {}'.format(movie_name, movie_date, img_tag['src']))\n",
    "\n",
    "%time main()"
   ],
   "metadata": {
    "collapsed": false
   }
  },
  {
   "cell_type": "code",
   "execution_count": 1,
   "outputs": [
    {
     "name": "stdout",
     "output_type": "stream",
     "text": [
      "扫黑行动 11月11日 https://img9.doubanio.com/view/photo/s_ratio_poster/public/p2883219876.jpg\n",
      "陪你在全世界长大 11月11日 https://img2.doubanio.com/view/photo/s_ratio_poster/public/p2879590432.jpg\n",
      "叫我郑先生 11月11日 https://img2.doubanio.com/view/photo/s_ratio_poster/public/p2882858722.jpg\n",
      "你好，珠峰 11月11日 https://img1.doubanio.com/view/photo/s_ratio_poster/public/p2882856388.jpg\n",
      "我们正年轻 11月11日 https://img1.doubanio.com/view/photo/s_ratio_poster/public/p2829300519.jpg\n",
      "浏阳河上 11月11日 https://img2.doubanio.com/view/photo/s_ratio_poster/public/p2831086052.jpg\n",
      "天之书 11月12日 https://img1.doubanio.com/view/photo/s_ratio_poster/public/p2880250328.jpg\n",
      "您好，北京 11月18日 https://img1.doubanio.com/view/photo/s_ratio_poster/public/p2882109748.jpg\n",
      "个十百千万 11月18日 https://img9.doubanio.com/view/photo/s_ratio_poster/public/p2883212096.jpg\n",
      "让这首歌作证 11月18日 https://img9.doubanio.com/view/photo/s_ratio_poster/public/p2882862234.jpg\n",
      "绑架游戏 12月23日 https://img1.doubanio.com/view/photo/s_ratio_poster/public/p2869898539.jpg\n",
      "龙马精神 12月31日 https://img3.doubanio.com/view/photo/s_ratio_poster/public/p2880320460.jpg\n",
      "保你平安 12月31日 https://img1.doubanio.com/view/photo/s_ratio_poster/public/p2882690157.jpg\n",
      "透明侠侣 12月31日 https://img1.doubanio.com/view/photo/s_ratio_poster/public/p2876027489.jpg\n",
      "绝望主夫 12月31日 https://img9.doubanio.com/view/photo/s_ratio_poster/public/p2882513134.jpg\n"
     ]
    }
   ],
   "source": [
    "import asyncio\n",
    "import aiohttp\n",
    "\n",
    "from bs4 import BeautifulSoup\n",
    "\n",
    "\n",
    "async def fetch_content(url):\n",
    "    headers = {\n",
    "        'Host': 'movie.douban.com',\n",
    "        'User-Agent': 'Mozilla/5.0 (Macintosh; Intel Mac OS X 10_15_7) AppleWebKit/537.36 (KHTML, like Gecko) Chrome/107.0.0.0 Safari/537.36',\n",
    "        'Cookie': 'bid=F1l4ghtrj_4; ap_v=0,6.0; _pk_id.100001.4cf6=7931be2691d5364a.1667973825.1.1667973825.1667973825.; _pk_ses.100001.4cf6=*; __utma=30149280.1548109094.1667973825.1667973825.1667973825.1; __utmb=30149280.0.10.1667973825; __utmc=30149280; __utmz=30149280.1667973825.1.1.utmcsr=(direct)|utmccn=(direct)|utmcmd=(none); __utma=223695111.1889506471.1667973825.1667973825.1667973825.1; __utmb=223695111.0.10.1667973825; __utmc=223695111; __utmz=223695111.1667973825.1.1.utmcsr=(direct)|utmccn=(direct)|utmcmd=(none)'\n",
    "    }\n",
    "    async with aiohttp.ClientSession(\n",
    "            headers=headers, connector=aiohttp.TCPConnector(ssl=False)\n",
    "    ) as session:\n",
    "        async with session.get(url) as response:\n",
    "            return await response.text()\n",
    "\n",
    "\n",
    "async def main():\n",
    "    url = \"https://movie.douban.com/cinema/later/hangzhou/\"\n",
    "    init_page = await fetch_content(url)\n",
    "    init_soup = BeautifulSoup(init_page, 'lxml')\n",
    "\n",
    "    movie_names, urls_to_fetch, movie_dates = [], [], []\n",
    "\n",
    "    all_movies = init_soup.find('div', id=\"showing-soon\")\n",
    "    for each_movie in all_movies.find_all('div', class_=\"item\"):\n",
    "        all_a_tag = each_movie.find_all('a')\n",
    "        all_li_tag = each_movie.find_all('li')\n",
    "\n",
    "        movie_names.append(all_a_tag[1].text)\n",
    "        urls_to_fetch.append(all_a_tag[1]['href'])\n",
    "        movie_dates.append(all_li_tag[0].text)\n",
    "\n",
    "    tasks = [fetch_content(url) for url in urls_to_fetch]\n",
    "    pages = await asyncio.gather(*tasks)\n",
    "\n",
    "    for movie_name, movie_date, page in zip(movie_names, movie_dates, pages):\n",
    "        soup_item = BeautifulSoup(page, 'lxml')\n",
    "        img_tag = soup_item.find('img')\n",
    "\n",
    "        print('{} {} {}'.format(movie_name, movie_date, img_tag['src']))\n",
    "\n",
    "\n",
    "await main()"
   ],
   "metadata": {
    "collapsed": false
   }
  },
  {
   "cell_type": "code",
   "execution_count": 7,
   "outputs": [
    {
     "name": "stdout",
     "output_type": "stream",
     "text": [
      "Read 252633 from https://en.wikipedia.org/wiki/Portal:Arts\n",
      "Read 402590 from https://en.wikipedia.org/wiki/Portal:History\n",
      "Read 291462 from https://en.wikipedia.org/wiki/Portal:Society\n",
      "Read 451448 from https://en.wikipedia.org/wiki/Portal:Biography\n",
      "Read 386888 from https://en.wikipedia.org/wiki/Portal:Mathematics\n",
      "Read 361405 from https://en.wikipedia.org/wiki/Portal:Technology\n",
      "Read 408164 from https://en.wikipedia.org/wiki/Portal:Geography\n",
      "Read 303141 from https://en.wikipedia.org/wiki/Portal:Science\n",
      "Read 384732 from https://en.wikipedia.org/wiki/Computer_science\n",
      "Read 575710 from https://en.wikipedia.org/wiki/Python_(programming_language)\n",
      "Read 348951 from https://en.wikipedia.org/wiki/Java_(programming_language)\n",
      "Read 580856 from https://en.wikipedia.org/wiki/PHP\n",
      "Read 201636 from https://en.wikipedia.org/wiki/Node.js\n",
      "Read 67933 from https://en.wikipedia.org/wiki/The_C_Programming_Language\n",
      "Read 377800 from https://en.wikipedia.org/wiki/Go_(programming_language)\n",
      "Download 15 sites in 10.530388624999432 seconds\n"
     ]
    }
   ],
   "source": [
    "import requests\n",
    "import time\n",
    "\n",
    "def download_one(url):\n",
    "    resp = requests.get(url)\n",
    "    print('Read {} from {}'.format(len(resp.content), url))\n",
    "\n",
    "def download_all(sites):\n",
    "    for site in sites:\n",
    "        download_one(site)\n",
    "\n",
    "def main():\n",
    "    sites = [\n",
    "        'https://en.wikipedia.org/wiki/Portal:Arts',\n",
    "        'https://en.wikipedia.org/wiki/Portal:History',\n",
    "        'https://en.wikipedia.org/wiki/Portal:Society',\n",
    "        'https://en.wikipedia.org/wiki/Portal:Biography',\n",
    "        'https://en.wikipedia.org/wiki/Portal:Mathematics',\n",
    "        'https://en.wikipedia.org/wiki/Portal:Technology',\n",
    "        'https://en.wikipedia.org/wiki/Portal:Geography',\n",
    "        'https://en.wikipedia.org/wiki/Portal:Science',\n",
    "        'https://en.wikipedia.org/wiki/Computer_science',\n",
    "        'https://en.wikipedia.org/wiki/Python_(programming_language)',\n",
    "        'https://en.wikipedia.org/wiki/Java_(programming_language)',\n",
    "        'https://en.wikipedia.org/wiki/PHP',\n",
    "        'https://en.wikipedia.org/wiki/Node.js',\n",
    "        'https://en.wikipedia.org/wiki/The_C_Programming_Language',\n",
    "        'https://en.wikipedia.org/wiki/Go_(programming_language)'\n",
    "    ]\n",
    "    start_time = time.perf_counter()\n",
    "    download_all(sites)\n",
    "    end_time = time.perf_counter()\n",
    "    print('Download {} sites in {} seconds'.format(len(sites), end_time - start_time))\n",
    "\n",
    "if __name__ == '__main__':\n",
    "    main()"
   ],
   "metadata": {
    "collapsed": false
   }
  },
  {
   "cell_type": "code",
   "execution_count": 6,
   "outputs": [
    {
     "name": "stdout",
     "output_type": "stream",
     "text": [
      "Read 291462 from https://en.wikipedia.org/wiki/Portal:Society\n",
      "Read 252633 from https://en.wikipedia.org/wiki/Portal:Arts\n",
      "Read 386888 from https://en.wikipedia.org/wiki/Portal:Mathematics\n",
      "Read 402590 from https://en.wikipedia.org/wiki/Portal:History\n",
      "Read 451448 from https://en.wikipedia.org/wiki/Portal:Biography\n",
      "Read 361405 from https://en.wikipedia.org/wiki/Portal:Technology\n",
      "Read 408164 from https://en.wikipedia.org/wiki/Portal:Geography\n",
      "Read 303141 from https://en.wikipedia.org/wiki/Portal:Science\n",
      "Read 384732 from https://en.wikipedia.org/wiki/Computer_science\n",
      "Read 575710 from https://en.wikipedia.org/wiki/Python_(programming_language)\n",
      "Read 201636 from https://en.wikipedia.org/wiki/Node.js\n",
      "Read 348951 from https://en.wikipedia.org/wiki/Java_(programming_language)\n",
      "Read 67933 from https://en.wikipedia.org/wiki/The_C_Programming_Language\n",
      "Read 580856 from https://en.wikipedia.org/wiki/PHP\n",
      "Read 377800 from https://en.wikipedia.org/wiki/Go_(programming_language)\n",
      "Download 15 sites in 2.2561270750002222 seconds\n"
     ]
    }
   ],
   "source": [
    "import concurrent.futures\n",
    "import requests\n",
    "import threading\n",
    "import time\n",
    "\n",
    "def download_one(url):\n",
    "    resp = requests.get(url)\n",
    "    print('Read {} from {}'.format(len(resp.content), url))\n",
    "\n",
    "\n",
    "def download_all(sites):\n",
    "    with concurrent.futures.ThreadPoolExecutor(max_workers=5) as executor:\n",
    "        executor.map(download_one, sites)\n",
    "\n",
    "def main():\n",
    "    sites = [\n",
    "        'https://en.wikipedia.org/wiki/Portal:Arts',\n",
    "        'https://en.wikipedia.org/wiki/Portal:History',\n",
    "        'https://en.wikipedia.org/wiki/Portal:Society',\n",
    "        'https://en.wikipedia.org/wiki/Portal:Biography',\n",
    "        'https://en.wikipedia.org/wiki/Portal:Mathematics',\n",
    "        'https://en.wikipedia.org/wiki/Portal:Technology',\n",
    "        'https://en.wikipedia.org/wiki/Portal:Geography',\n",
    "        'https://en.wikipedia.org/wiki/Portal:Science',\n",
    "        'https://en.wikipedia.org/wiki/Computer_science',\n",
    "        'https://en.wikipedia.org/wiki/Python_(programming_language)',\n",
    "        'https://en.wikipedia.org/wiki/Java_(programming_language)',\n",
    "        'https://en.wikipedia.org/wiki/PHP',\n",
    "        'https://en.wikipedia.org/wiki/Node.js',\n",
    "        'https://en.wikipedia.org/wiki/The_C_Programming_Language',\n",
    "        'https://en.wikipedia.org/wiki/Go_(programming_language)'\n",
    "    ]\n",
    "    start_time = time.perf_counter()\n",
    "    download_all(sites)\n",
    "    end_time = time.perf_counter()\n",
    "    print('Download {} sites in {} seconds'.format(len(sites), end_time - start_time))\n",
    "\n",
    "if __name__ == '__main__':\n",
    "    main()"
   ],
   "metadata": {
    "collapsed": false
   }
  },
  {
   "cell_type": "code",
   "execution_count": 8,
   "outputs": [
    {
     "name": "stdout",
     "output_type": "stream",
     "text": [
      "Read 291462 from https://en.wikipedia.org/wiki/Portal:Society\n",
      "Read 252633 from https://en.wikipedia.org/wiki/Portal:Arts\n",
      "Read 402590 from https://en.wikipedia.org/wiki/Portal:History\n",
      "Read 451448 from https://en.wikipedia.org/wiki/Portal:Biography\n",
      "Read 408164 from https://en.wikipedia.org/wiki/Portal:Geography\n",
      "Read 384732 from https://en.wikipedia.org/wiki/Computer_science\n",
      "Read 575710 from https://en.wikipedia.org/wiki/Python_(programming_language)\n",
      "Read 348951 from https://en.wikipedia.org/wiki/Java_(programming_language)\n",
      "Read 580856 from https://en.wikipedia.org/wiki/PHP\n",
      "Read 201636 from https://en.wikipedia.org/wiki/Node.js\n",
      "Read 67933 from https://en.wikipedia.org/wiki/The_C_Programming_Language\n",
      "Read 377800 from https://en.wikipedia.org/wiki/Go_(programming_language)\n",
      "Read 368017 from https://en.wikipedia.org/wiki/Portal:Mathematics\n",
      "Read 359677 from https://en.wikipedia.org/wiki/Portal:Technology\n",
      "Read 299398 from https://en.wikipedia.org/wiki/Portal:Science\n",
      "Download 15 sites in 9.029956223999761 seconds\n"
     ]
    }
   ],
   "source": [
    "import concurrent.futures\n",
    "import requests\n",
    "import time\n",
    "\n",
    "def download_one(url):\n",
    "    resp = requests.get(url)\n",
    "    print('Read {} from {}'.format(len(resp.content), url))\n",
    "\n",
    "def download_all(sites):\n",
    "    with concurrent.futures.ThreadPoolExecutor(max_workers=5) as executor:\n",
    "        to_do = []\n",
    "        for site in sites:\n",
    "            future = executor.submit(download_one, site)\n",
    "            to_do.append(future)\n",
    "\n",
    "        for future in concurrent.futures.as_completed(to_do):\n",
    "            future.result()\n",
    "def main():\n",
    "    sites = [\n",
    "        'https://en.wikipedia.org/wiki/Portal:Arts',\n",
    "        'https://en.wikipedia.org/wiki/Portal:History',\n",
    "        'https://en.wikipedia.org/wiki/Portal:Society',\n",
    "        'https://en.wikipedia.org/wiki/Portal:Biography',\n",
    "        'https://en.wikipedia.org/wiki/Portal:Mathematics',\n",
    "        'https://en.wikipedia.org/wiki/Portal:Technology',\n",
    "        'https://en.wikipedia.org/wiki/Portal:Geography',\n",
    "        'https://en.wikipedia.org/wiki/Portal:Science',\n",
    "        'https://en.wikipedia.org/wiki/Computer_science',\n",
    "        'https://en.wikipedia.org/wiki/Python_(programming_language)',\n",
    "        'https://en.wikipedia.org/wiki/Java_(programming_language)',\n",
    "        'https://en.wikipedia.org/wiki/PHP',\n",
    "        'https://en.wikipedia.org/wiki/Node.js',\n",
    "        'https://en.wikipedia.org/wiki/The_C_Programming_Language',\n",
    "        'https://en.wikipedia.org/wiki/Go_(programming_language)'\n",
    "    ]\n",
    "    start_time = time.perf_counter()\n",
    "    download_all(sites)\n",
    "    end_time = time.perf_counter()\n",
    "    print('Download {} sites in {} seconds'.format(len(sites), end_time - start_time))\n",
    "\n",
    "if __name__ == '__main__':\n",
    "    main()"
   ],
   "metadata": {
    "collapsed": false
   }
  },
  {
   "cell_type": "code",
   "execution_count": 20,
   "outputs": [
    {
     "name": "stderr",
     "output_type": "stream",
     "text": [
      "/var/folders/05/xk850z3d6q904bqtx0pqjr7w0000gn/T/ipykernel_6507/3811547139.py:22: RuntimeWarning: coroutine 'main' was never awaited\n",
      "  main()\n",
      "RuntimeWarning: Enable tracemalloc to get the object allocation traceback\n"
     ]
    }
   ],
   "source": [
    "import asyncio\n",
    "import aiohttp\n",
    "import time\n",
    "\n",
    "async def download_one(url):\n",
    "    async with aiohttp.ClientSession() as session:\n",
    "        async with session.get(url) as resp:\n",
    "            print(f\"read {resp.content_length} from {url}\")\n",
    "\n",
    "async def download_all(sites):\n",
    "    tasks = [asyncio.create_task(download_one(site) for site in sites)]\n",
    "    await asyncio.gather(*tasks)\n",
    "\n",
    "def main():\n",
    "    sites = [ 'https://en.wikipedia.org/wiki/Portal:Arts', 'https://en.wikipedia.org/wiki/Portal:History', 'https://en.wikipedia.org/wiki/Portal:Society', 'https://en.wikipedia.org/wiki/Portal:Biography', 'https://en.wikipedia.org/wiki/Portal:Mathematics', 'https://en.wikipedia.org/wiki/Portal:Technology', 'https://en.wikipedia.org/wiki/Portal:Geography', 'https://en.wikipedia.org/wiki/Portal:Science', 'https://en.wikipedia.org/wiki/Computer_science', 'https://en.wikipedia.org/wiki/Python_(programming_language)', 'https://en.wikipedia.org/wiki/Java_(programming_language)', 'https://en.wikipedia.org/wiki/PHP', 'https://en.wikipedia.org/wiki/Node.js', 'https://en.wikipedia.org/wiki/The_C_Programming_Language', 'https://en.wikipedia.org/wiki/Go_(programming_language)' ]\n",
    "    start_time = time.perf_counter()\n",
    "    asyncio.run(download_all(sites))\n",
    "    end_time = time.perf_counter()\n",
    "    print(f'Download {len(sites)} sites in {end_time - start_time} seconds')\n",
    "\n",
    "if __name__ == '__main__':\n",
    "    main()"
   ],
   "metadata": {
    "collapsed": false
   }
  },
  {
   "cell_type": "code",
   "execution_count": 7,
   "outputs": [
    {
     "name": "stdout",
     "output_type": "stream",
     "text": [
      "CPU times: user 4.12 s, sys: 11.7 ms, total: 4.13 s\n",
      "Wall time: 4.15 s\n"
     ]
    }
   ],
   "source": [
    "def CountDown(n):\n",
    "    while n > 0:\n",
    "        n -= 1\n",
    "\n",
    "%time CountDown(100000000)"
   ],
   "metadata": {
    "collapsed": false
   }
  },
  {
   "cell_type": "code",
   "execution_count": 6,
   "outputs": [],
   "source": [
    "from threading import Thread\n",
    "\n",
    "n = 100000000\n",
    "\n",
    "t1 = Thread(target=CountDown, args=[n // 2])\n",
    "t2 = Thread(target=CountDown, args=[n // 2])\n",
    "t1.start()\n",
    "t2.start()\n",
    "t1.join()\n",
    "t2.join()"
   ],
   "metadata": {
    "collapsed": false
   }
  },
  {
   "cell_type": "code",
   "execution_count": 8,
   "outputs": [
    {
     "data": {
      "text/plain": "3"
     },
     "execution_count": 8,
     "metadata": {},
     "output_type": "execute_result"
    }
   ],
   "source": [
    "import sys\n",
    "\n",
    "a = []\n",
    "b = a\n",
    "sys.getrefcount(a)"
   ],
   "metadata": {
    "collapsed": false
   }
  },
  {
   "cell_type": "code",
   "execution_count": 38,
   "outputs": [
    {
     "name": "stdout",
     "output_type": "stream",
     "text": [
      "100\n",
      "  7           0 LOAD_GLOBAL              0 (n)\n",
      "              2 LOAD_CONST               1 (1)\n",
      "              4 INPLACE_ADD\n",
      "              6 STORE_GLOBAL             0 (n)\n",
      "              8 LOAD_CONST               0 (None)\n",
      "             10 RETURN_VALUE\n"
     ]
    }
   ],
   "source": [
    "import threading\n",
    "\n",
    "n = 0\n",
    "\n",
    "def foo():\n",
    "    global n\n",
    "    n += 1\n",
    "\n",
    "threads = []\n",
    "for i in range(100):\n",
    "    t = threading.Thread(target=foo)\n",
    "    threads.append(t)\n",
    "\n",
    "for t in threads:\n",
    "    t.start()\n",
    "\n",
    "for t in threads:\n",
    "    t.join()\n",
    "\n",
    "print(n)\n",
    "import dis\n",
    "dis.dis(foo)"
   ],
   "metadata": {
    "collapsed": false
   }
  },
  {
   "cell_type": "code",
   "execution_count": 44,
   "outputs": [
    {
     "name": "stdout",
     "output_type": "stream",
     "text": [
      "initial memory used: 424.109375 MB\n",
      "after a created memory used: 408.453125 MB\n",
      "finished memory used: 408.45703125 MB\n"
     ]
    }
   ],
   "source": [
    "import os\n",
    "import psutil\n",
    "\n",
    "# 显示当前 python 程序占用的内存大小\n",
    "def show_memory_info(hint):\n",
    "    pid = os.getpid()\n",
    "    p = psutil.Process(pid)\n",
    "\n",
    "    info = p.memory_full_info()\n",
    "    memory = info.uss / 1024. / 1024\n",
    "    print('{} memory used: {} MB'.format(hint, memory))\n",
    "\n",
    "\n",
    "def func():\n",
    "    show_memory_info('initial')\n",
    "    global a\n",
    "    a = [i for i in range(10000000)]\n",
    "    show_memory_info('after a created')\n",
    "\n",
    "func()\n",
    "show_memory_info('finished')\n",
    "\n",
    "########## 输出 ##########\n",
    "\n",
    "\n"
   ],
   "metadata": {
    "collapsed": false
   }
  },
  {
   "cell_type": "code",
   "execution_count": 45,
   "outputs": [
    {
     "name": "stdout",
     "output_type": "stream",
     "text": [
      "initial memory used: 418.625 MB\n",
      "after a created memory used: 802.59375 MB\n",
      "finished memory used: 418.37109375 MB\n"
     ]
    }
   ],
   "source": [
    "import os\n",
    "import psutil\n",
    "\n",
    "# 显示当前 python 程序占用的内存大小\n",
    "def show_memory_info(hint):\n",
    "    pid = os.getpid()\n",
    "    p = psutil.Process(pid)\n",
    "\n",
    "    info = p.memory_full_info()\n",
    "    memory = info.uss / 1024. / 1024\n",
    "    print('{} memory used: {} MB'.format(hint, memory))\n",
    "\n",
    "\n",
    "def func():\n",
    "    show_memory_info('initial')\n",
    "    a = [i for i in range(10000000)]\n",
    "    show_memory_info('after a created')\n",
    "    return a\n",
    "\n",
    "func()\n",
    "show_memory_info('finished')"
   ],
   "metadata": {
    "collapsed": false
   }
  },
  {
   "cell_type": "code",
   "execution_count": 46,
   "outputs": [
    {
     "name": "stdout",
     "output_type": "stream",
     "text": [
      "2\n",
      "4\n",
      "2\n"
     ]
    }
   ],
   "source": [
    "\n",
    "import sys\n",
    "\n",
    "a = []\n",
    "\n",
    "# 两次引用，一次来自 a，一次来自 getrefcount\n",
    "print(sys.getrefcount(a))\n",
    "\n",
    "def func(a):\n",
    "    # 四次引用，a，python 的函数调用栈，函数参数，和 getrefcount\n",
    "    print(sys.getrefcount(a))\n",
    "\n",
    "func(a)\n",
    "\n",
    "# 两次引用，一次来自 a，一次来自 getrefcount，函数 func 调用已经不存在\n",
    "print(sys.getrefcount(a))\n",
    "\n",
    "########## 输出 ##########"
   ],
   "metadata": {
    "collapsed": false
   }
  },
  {
   "cell_type": "code",
   "execution_count": 48,
   "outputs": [
    {
     "name": "stdout",
     "output_type": "stream",
     "text": [
      "initial memory used: 416.07421875 MB\n",
      "after a created memory used: 461.27734375 MB\n",
      "finish memory used: 88.234375 MB\n"
     ]
    },
    {
     "ename": "NameError",
     "evalue": "name 'a' is not defined",
     "output_type": "error",
     "traceback": [
      "\u001B[0;31m---------------------------------------------------------------------------\u001B[0m",
      "\u001B[0;31mNameError\u001B[0m                                 Traceback (most recent call last)",
      "Cell \u001B[0;32mIn [48], line 22\u001B[0m\n\u001B[1;32m     19\u001B[0m gc\u001B[38;5;241m.\u001B[39mcollect()\n\u001B[1;32m     21\u001B[0m show_memory_info(\u001B[38;5;124m'\u001B[39m\u001B[38;5;124mfinish\u001B[39m\u001B[38;5;124m'\u001B[39m)\n\u001B[0;32m---> 22\u001B[0m \u001B[38;5;28mprint\u001B[39m(\u001B[43ma\u001B[49m)\n",
      "\u001B[0;31mNameError\u001B[0m: name 'a' is not defined"
     ]
    }
   ],
   "source": [
    "import gc\n",
    "\n",
    "# 显示当前 python 程序占用的内存大小\n",
    "def show_memory_info(hint):\n",
    "    pid = os.getpid()\n",
    "    p = psutil.Process(pid)\n",
    "\n",
    "    info = p.memory_full_info()\n",
    "    memory = info.uss / 1024. / 1024\n",
    "    print('{} memory used: {} MB'.format(hint, memory))\n",
    "\n",
    "show_memory_info('initial')\n",
    "\n",
    "a = [i for i in range(1000000)]\n",
    "\n",
    "show_memory_info('after a created')\n",
    "\n",
    "del a\n",
    "gc.collect()\n",
    "\n",
    "show_memory_info('finish')\n",
    "print(a)"
   ],
   "metadata": {
    "collapsed": false
   }
  },
  {
   "cell_type": "code",
   "execution_count": 49,
   "outputs": [
    {
     "name": "stdout",
     "output_type": "stream",
     "text": [
      "initial memory used: 98.89453125 MB\n",
      "after a, b created memory used: 873.4296875 MB\n",
      "finished memory used: 873.4296875 MB\n"
     ]
    }
   ],
   "source": [
    "def show_memory_info(hint):\n",
    "    pid = os.getpid()\n",
    "    p = psutil.Process(pid)\n",
    "\n",
    "    info = p.memory_full_info()\n",
    "    memory = info.uss / 1024. / 1024\n",
    "    print('{} memory used: {} MB'.format(hint, memory))\n",
    "\n",
    "\n",
    "def func():\n",
    "    show_memory_info('initial')\n",
    "    a = [i for i in range(10000000)]\n",
    "    b = [i for i in range(10000000)]\n",
    "    show_memory_info('after a, b created')\n",
    "    a.append(b)\n",
    "    b.append(a)\n",
    "\n",
    "func()\n",
    "show_memory_info('finished')"
   ],
   "metadata": {
    "collapsed": false
   }
  },
  {
   "cell_type": "code",
   "execution_count": 50,
   "outputs": [
    {
     "name": "stdout",
     "output_type": "stream",
     "text": [
      "initial memory used: 678.20703125 MB\n",
      "after a, b created memory used: 856.4375 MB\n",
      "finished memory used: 97.54296875 MB\n"
     ]
    }
   ],
   "source": [
    "import gc\n",
    "\n",
    "def show_memory_info(hint):\n",
    "    pid = os.getpid()\n",
    "    p = psutil.Process(pid)\n",
    "\n",
    "    info = p.memory_full_info()\n",
    "    memory = info.uss / 1024. / 1024\n",
    "    print('{} memory used: {} MB'.format(hint, memory))\n",
    "\n",
    "def func():\n",
    "    show_memory_info('initial')\n",
    "    a = [i for i in range(10000000)]\n",
    "    b = [i for i in range(10000000)]\n",
    "    show_memory_info('after a, b created')\n",
    "    a.append(b)\n",
    "    b.append(a)\n",
    "\n",
    "func()\n",
    "gc.collect()\n",
    "show_memory_info('finished')"
   ],
   "metadata": {
    "collapsed": false
   }
  },
  {
   "cell_type": "code",
   "execution_count": 2,
   "outputs": [
    {
     "data": {
      "image/svg+xml": "<?xml version=\"1.0\" encoding=\"UTF-8\" standalone=\"no\"?>\n<!DOCTYPE svg PUBLIC \"-//W3C//DTD SVG 1.1//EN\"\n \"http://www.w3.org/Graphics/SVG/1.1/DTD/svg11.dtd\">\n<!-- Generated by graphviz version 7.0.0 (20221023.0053)\n -->\n<!-- Title: ObjectGraph Pages: 1 -->\n<svg width=\"352pt\" height=\"194pt\"\n viewBox=\"0.00 0.00 352.00 194.00\" xmlns=\"http://www.w3.org/2000/svg\" xmlns:xlink=\"http://www.w3.org/1999/xlink\">\n<g id=\"graph0\" class=\"graph\" transform=\"scale(1 1) rotate(0) translate(4 190)\">\n<title>ObjectGraph</title>\n<polygon fill=\"white\" stroke=\"none\" points=\"-4,4 -4,-190 348,-190 348,4 -4,4\"/>\n<!-- o140386841112256 -->\n<g id=\"node1\" class=\"node\">\n<title>o140386841112256</title>\n<polygon fill=\"#ffffff\" stroke=\"black\" points=\"201.5,-186 144.5,-186 144.5,-148 201.5,-148 201.5,-186\"/>\n<text text-anchor=\"middle\" x=\"173\" y=\"-170.8\" font-family=\"Times,serif\" font-size=\"14.00\" fill=\"red\">list</text>\n<text text-anchor=\"middle\" x=\"173\" y=\"-155.8\" font-family=\"Times,serif\" font-size=\"14.00\" fill=\"red\">4 items</text>\n</g>\n<!-- o140386841112064 -->\n<g id=\"node2\" class=\"node\">\n<title>o140386841112064</title>\n<polygon fill=\"#c3c3c3\" stroke=\"black\" points=\"127.5,-112 70.5,-112 70.5,-74 127.5,-74 127.5,-112\"/>\n<text text-anchor=\"middle\" x=\"99\" y=\"-96.8\" font-family=\"Times,serif\" font-size=\"14.00\">list</text>\n<text text-anchor=\"middle\" x=\"99\" y=\"-81.8\" font-family=\"Times,serif\" font-size=\"14.00\">4 items</text>\n</g>\n<!-- o140386841112256&#45;&gt;o140386841112064 -->\n<g id=\"edge1\" class=\"edge\">\n<title>o140386841112256&#45;&gt;o140386841112064</title>\n<path fill=\"none\" stroke=\"black\" d=\"M148.37,-147.83C139.04,-139.54 128.59,-129.56 119.65,-120.45\"/>\n<polygon fill=\"black\" stroke=\"black\" points=\"122.44,-118.3 113,-113.51 117.39,-123.15 122.44,-118.3\"/>\n</g>\n<!-- o140386685294960 -->\n<g id=\"node3\" class=\"node\">\n<title>o140386685294960</title>\n<polygon fill=\"#c3c3c3\" stroke=\"black\" points=\"200,-112 146,-112 146,-74 200,-74 200,-112\"/>\n<text text-anchor=\"middle\" x=\"173\" y=\"-96.8\" font-family=\"Times,serif\" font-size=\"14.00\">int</text>\n<text text-anchor=\"middle\" x=\"173\" y=\"-81.8\" font-family=\"Times,serif\" font-size=\"14.00\">3</text>\n</g>\n<!-- o140386841112256&#45;&gt;o140386685294960 -->\n<g id=\"edge2\" class=\"edge\">\n<title>o140386841112256&#45;&gt;o140386685294960</title>\n<path fill=\"none\" stroke=\"black\" d=\"M173,-147.83C173,-140.55 173,-131.98 173,-123.83\"/>\n<polygon fill=\"black\" stroke=\"black\" points=\"176.5,-123.93 173,-113.93 169.5,-123.93 176.5,-123.93\"/>\n</g>\n<!-- o140386685294928 -->\n<g id=\"node4\" class=\"node\">\n<title>o140386685294928</title>\n<polygon fill=\"#c3c3c3\" stroke=\"black\" points=\"272,-112 218,-112 218,-74 272,-74 272,-112\"/>\n<text text-anchor=\"middle\" x=\"245\" y=\"-96.8\" font-family=\"Times,serif\" font-size=\"14.00\">int</text>\n<text text-anchor=\"middle\" x=\"245\" y=\"-81.8\" font-family=\"Times,serif\" font-size=\"14.00\">2</text>\n</g>\n<!-- o140386841112256&#45;&gt;o140386685294928 -->\n<g id=\"edge3\" class=\"edge\">\n<title>o140386841112256&#45;&gt;o140386685294928</title>\n<path fill=\"none\" stroke=\"black\" d=\"M191.17,-147.83C199.46,-139.54 209.44,-129.56 218.55,-120.45\"/>\n<polygon fill=\"black\" stroke=\"black\" points=\"220.92,-123.03 225.52,-113.48 215.97,-118.08 220.92,-123.03\"/>\n</g>\n<!-- o140386685294896 -->\n<g id=\"node5\" class=\"node\">\n<title>o140386685294896</title>\n<polygon fill=\"#c3c3c3\" stroke=\"black\" points=\"344,-112 290,-112 290,-74 344,-74 344,-112\"/>\n<text text-anchor=\"middle\" x=\"317\" y=\"-96.8\" font-family=\"Times,serif\" font-size=\"14.00\">int</text>\n<text text-anchor=\"middle\" x=\"317\" y=\"-81.8\" font-family=\"Times,serif\" font-size=\"14.00\">1</text>\n</g>\n<!-- o140386841112256&#45;&gt;o140386685294896 -->\n<g id=\"edge4\" class=\"edge\">\n<title>o140386841112256&#45;&gt;o140386685294896</title>\n<path fill=\"none\" stroke=\"black\" d=\"M201.79,-151.6C224.1,-140.45 255.19,-124.91 279.45,-112.78\"/>\n<polygon fill=\"black\" stroke=\"black\" points=\"280.99,-115.92 288.37,-108.32 277.86,-109.66 280.99,-115.92\"/>\n</g>\n<!-- o140386841112064&#45;&gt;o140386841112256 -->\n<g id=\"edge5\" class=\"edge\">\n<title>o140386841112064&#45;&gt;o140386841112256</title>\n<path fill=\"none\" stroke=\"black\" d=\"M123.9,-112.41C133.16,-120.65 143.49,-130.52 152.34,-139.54\"/>\n<polygon fill=\"black\" stroke=\"black\" points=\"149.79,-141.94 159.23,-146.74 154.84,-137.09 149.79,-141.94\"/>\n</g>\n<!-- o140386685295056 -->\n<g id=\"node6\" class=\"node\">\n<title>o140386685295056</title>\n<polygon fill=\"#878787\" stroke=\"black\" points=\"54,-38 0,-38 0,0 54,0 54,-38\"/>\n<text text-anchor=\"middle\" x=\"27\" y=\"-22.8\" font-family=\"Times,serif\" font-size=\"14.00\">int</text>\n<text text-anchor=\"middle\" x=\"27\" y=\"-7.8\" font-family=\"Times,serif\" font-size=\"14.00\">6</text>\n</g>\n<!-- o140386841112064&#45;&gt;o140386685295056 -->\n<g id=\"edge6\" class=\"edge\">\n<title>o140386841112064&#45;&gt;o140386685295056</title>\n<path fill=\"none\" stroke=\"black\" d=\"M80.83,-73.83C72.54,-65.54 62.56,-55.56 53.45,-46.45\"/>\n<polygon fill=\"black\" stroke=\"black\" points=\"56.03,-44.08 46.48,-39.48 51.08,-49.03 56.03,-44.08\"/>\n</g>\n<!-- o140386685295024 -->\n<g id=\"node7\" class=\"node\">\n<title>o140386685295024</title>\n<polygon fill=\"#878787\" stroke=\"black\" points=\"126,-38 72,-38 72,0 126,0 126,-38\"/>\n<text text-anchor=\"middle\" x=\"99\" y=\"-22.8\" font-family=\"Times,serif\" font-size=\"14.00\">int</text>\n<text text-anchor=\"middle\" x=\"99\" y=\"-7.8\" font-family=\"Times,serif\" font-size=\"14.00\">5</text>\n</g>\n<!-- o140386841112064&#45;&gt;o140386685295024 -->\n<g id=\"edge7\" class=\"edge\">\n<title>o140386841112064&#45;&gt;o140386685295024</title>\n<path fill=\"none\" stroke=\"black\" d=\"M99,-73.83C99,-66.55 99,-57.98 99,-49.83\"/>\n<polygon fill=\"black\" stroke=\"black\" points=\"102.5,-49.93 99,-39.93 95.5,-49.93 102.5,-49.93\"/>\n</g>\n<!-- o140386685294992 -->\n<g id=\"node8\" class=\"node\">\n<title>o140386685294992</title>\n<polygon fill=\"#878787\" stroke=\"black\" points=\"198,-38 144,-38 144,0 198,0 198,-38\"/>\n<text text-anchor=\"middle\" x=\"171\" y=\"-22.8\" font-family=\"Times,serif\" font-size=\"14.00\">int</text>\n<text text-anchor=\"middle\" x=\"171\" y=\"-7.8\" font-family=\"Times,serif\" font-size=\"14.00\">4</text>\n</g>\n<!-- o140386841112064&#45;&gt;o140386685294992 -->\n<g id=\"edge8\" class=\"edge\">\n<title>o140386841112064&#45;&gt;o140386685294992</title>\n<path fill=\"none\" stroke=\"black\" d=\"M117.17,-73.83C125.46,-65.54 135.44,-55.56 144.55,-46.45\"/>\n<polygon fill=\"black\" stroke=\"black\" points=\"146.92,-49.03 151.52,-39.48 141.97,-44.08 146.92,-49.03\"/>\n</g>\n</g>\n</svg>\n",
      "text/plain": "<graphviz.sources.Source at 0x7fae5bcffdf0>"
     },
     "execution_count": 2,
     "metadata": {},
     "output_type": "execute_result"
    }
   ],
   "source": [
    "import objgraph\n",
    "\n",
    "a = [1, 2, 3]\n",
    "b = [4, 5, 6]\n",
    "\n",
    "a.append(b)\n",
    "b.append(a)\n",
    "\n",
    "objgraph.show_refs([a])"
   ],
   "metadata": {
    "collapsed": false
   }
  },
  {
   "cell_type": "code",
   "execution_count": 3,
   "outputs": [
    {
     "data": {
      "image/svg+xml": "<?xml version=\"1.0\" encoding=\"UTF-8\" standalone=\"no\"?>\n<!DOCTYPE svg PUBLIC \"-//W3C//DTD SVG 1.1//EN\"\n \"http://www.w3.org/Graphics/SVG/1.1/DTD/svg11.dtd\">\n<!-- Generated by graphviz version 7.0.0 (20221023.0053)\n -->\n<!-- Title: ObjectGraph Pages: 1 -->\n<svg width=\"1239pt\" height=\"477pt\"\n viewBox=\"0.00 0.00 1239.00 477.00\" xmlns=\"http://www.w3.org/2000/svg\" xmlns:xlink=\"http://www.w3.org/1999/xlink\">\n<g id=\"graph0\" class=\"graph\" transform=\"scale(1 1) rotate(0) translate(4 473)\">\n<title>ObjectGraph</title>\n<polygon fill=\"white\" stroke=\"none\" points=\"-4,4 -4,-473 1235,-473 1235,4 -4,4\"/>\n<!-- o140386825444800 -->\n<g id=\"node1\" class=\"node\">\n<title>o140386825444800</title>\n<polygon fill=\"#ffffff\" stroke=\"black\" points=\"253,-113 196,-113 196,-75 253,-75 253,-113\"/>\n<text text-anchor=\"middle\" x=\"224.5\" y=\"-97.8\" font-family=\"Times,serif\" font-size=\"14.00\" fill=\"red\">list</text>\n<text text-anchor=\"middle\" x=\"224.5\" y=\"-82.8\" font-family=\"Times,serif\" font-size=\"14.00\" fill=\"red\">4 items</text>\n</g>\n<!-- o140386833516992 -->\n<g id=\"node3\" class=\"node\">\n<title>o140386833516992</title>\n<polygon fill=\"#c3c3c3\" stroke=\"black\" points=\"286,-38 229,-38 229,0 286,0 286,-38\"/>\n<text text-anchor=\"middle\" x=\"257.5\" y=\"-22.8\" font-family=\"Times,serif\" font-size=\"14.00\">list</text>\n<text text-anchor=\"middle\" x=\"257.5\" y=\"-7.8\" font-family=\"Times,serif\" font-size=\"14.00\">4 items</text>\n</g>\n<!-- o140386825444800&#45;&gt;o140386833516992 -->\n<g id=\"edge9\" class=\"edge\">\n<title>o140386825444800&#45;&gt;o140386833516992</title>\n<path fill=\"none\" stroke=\"black\" d=\"M226.87,-74.58C229.68,-66.71 233.69,-57.34 237.96,-48.61\"/>\n<polygon fill=\"black\" stroke=\"black\" points=\"241.05,-50.25 242.53,-39.76 234.83,-47.04 241.05,-50.25\"/>\n</g>\n<!-- o140386824753536 -->\n<g id=\"node2\" class=\"node\">\n<title>o140386824753536</title>\n<polygon fill=\"#c3c3c3\" stroke=\"black\" points=\"289.5,-202 225.5,-202 225.5,-164 289.5,-164 289.5,-202\"/>\n<text text-anchor=\"middle\" x=\"257.5\" y=\"-186.8\" font-family=\"Times,serif\" font-size=\"14.00\">dict</text>\n<text text-anchor=\"middle\" x=\"257.5\" y=\"-171.8\" font-family=\"Times,serif\" font-size=\"14.00\">33 items</text>\n</g>\n<!-- o140386824753536&#45;&gt;o140386825444800 -->\n<g id=\"edge1\" class=\"edge\">\n<title>o140386824753536&#45;&gt;o140386825444800</title>\n<path fill=\"none\" stroke=\"black\" d=\"M250.5,-163.55C246.13,-152.02 240.4,-136.92 235.43,-123.83\"/>\n<polygon fill=\"black\" stroke=\"black\" points=\"238.84,-122.95 232.03,-114.84 232.3,-125.43 238.84,-122.95\"/>\n<text text-anchor=\"middle\" x=\"247\" y=\"-134.8\" font-family=\"Times,serif\" font-size=\"14.00\">a</text>\n</g>\n<!-- o140386824753536&#45;&gt;o140386833516992 -->\n<g id=\"edge8\" class=\"edge\">\n<title>o140386824753536&#45;&gt;o140386833516992</title>\n<path fill=\"none\" stroke=\"black\" d=\"M260.26,-163.6C263.56,-139.03 268.18,-94.16 264.5,-56 264.29,-53.81 264.01,-51.56 263.68,-49.3\"/>\n<polygon fill=\"black\" stroke=\"black\" points=\"267.17,-48.96 262.01,-39.71 260.28,-50.16 267.17,-48.96\"/>\n<text text-anchor=\"middle\" x=\"270\" y=\"-90.3\" font-family=\"Times,serif\" font-size=\"14.00\">b</text>\n</g>\n<!-- o140386833516992&#45;&gt;o140386825444800 -->\n<g id=\"edge2\" class=\"edge\">\n<title>o140386833516992&#45;&gt;o140386825444800</title>\n<path fill=\"none\" stroke=\"black\" d=\"M255.13,-38.42C252.33,-46.28 248.31,-55.65 244.04,-64.38\"/>\n<polygon fill=\"black\" stroke=\"black\" points=\"240.95,-62.74 239.47,-73.23 247.17,-65.95 240.95,-62.74\"/>\n</g>\n<!-- o140386824753280 -->\n<g id=\"node4\" class=\"node\">\n<title>o140386824753280</title>\n<polygon fill=\"#878787\" stroke=\"black\" points=\"158.5,-380 94.5,-380 94.5,-342 158.5,-342 158.5,-380\"/>\n<text text-anchor=\"middle\" x=\"126.5\" y=\"-364.8\" font-family=\"Times,serif\" font-size=\"14.00\">dict</text>\n<text text-anchor=\"middle\" x=\"126.5\" y=\"-349.8\" font-family=\"Times,serif\" font-size=\"14.00\">46 items</text>\n</g>\n<!-- o140386824753280&#45;&gt;o140386824753536 -->\n<g id=\"edge3\" class=\"edge\">\n<title>o140386824753280&#45;&gt;o140386824753536</title>\n<path fill=\"none\" stroke=\"black\" d=\"M111.92,-341.6C96.01,-319.13 75.11,-280.69 93.5,-253 120.12,-212.92 175.06,-196.07 214,-189.02\"/>\n<polygon fill=\"black\" stroke=\"black\" points=\"214.48,-192.49 223.78,-187.41 213.34,-185.58 214.48,-192.49\"/>\n<text text-anchor=\"middle\" x=\"114.5\" y=\"-268.3\" font-family=\"Times,serif\" font-size=\"14.00\">user_ns</text>\n</g>\n<!-- o140386824744576 -->\n<g id=\"node6\" class=\"node\">\n<title>o140386824744576</title>\n<polygon fill=\"#878787\" stroke=\"black\" points=\"202,-291 145,-291 145,-253 202,-253 202,-291\"/>\n<text text-anchor=\"middle\" x=\"173.5\" y=\"-275.8\" font-family=\"Times,serif\" font-size=\"14.00\">dict</text>\n<text text-anchor=\"middle\" x=\"173.5\" y=\"-260.8\" font-family=\"Times,serif\" font-size=\"14.00\">3 items</text>\n</g>\n<!-- o140386824753280&#45;&gt;o140386824744576 -->\n<g id=\"edge11\" class=\"edge\">\n<title>o140386824753280&#45;&gt;o140386824744576</title>\n<path fill=\"none\" stroke=\"black\" d=\"M136.47,-341.55C142.76,-329.9 151.02,-314.61 158.14,-301.43\"/>\n<polygon fill=\"black\" stroke=\"black\" points=\"161.15,-303.22 162.83,-292.76 154.99,-299.89 161.15,-303.22\"/>\n<text text-anchor=\"middle\" x=\"176.5\" y=\"-312.8\" font-family=\"Times,serif\" font-size=\"14.00\">ns_table</text>\n</g>\n<!-- o140386824732976 -->\n<g id=\"node5\" class=\"node\">\n<title>o140386824732976</title>\n<polygon fill=\"#1b8700\" stroke=\"black\" points=\"293,-291 222,-291 222,-253 293,-253 293,-291\"/>\n<text text-anchor=\"middle\" x=\"257.5\" y=\"-275.8\" font-family=\"Times,serif\" font-size=\"14.00\">module</text>\n<text text-anchor=\"middle\" x=\"257.5\" y=\"-260.8\" font-family=\"Times,serif\" font-size=\"14.00\">__main__</text>\n</g>\n<!-- o140386824732976&#45;&gt;o140386824753536 -->\n<g id=\"edge4\" class=\"edge\">\n<title>o140386824732976&#45;&gt;o140386824753536</title>\n<path fill=\"none\" stroke=\"black\" d=\"M257.5,-252.55C257.5,-241.25 257.5,-226.52 257.5,-213.61\"/>\n<polygon fill=\"black\" stroke=\"black\" points=\"261,-213.94 257.5,-203.94 254,-213.94 261,-213.94\"/>\n<text text-anchor=\"middle\" x=\"281.5\" y=\"-223.8\" font-family=\"Times,serif\" font-size=\"14.00\">__dict__</text>\n</g>\n<!-- o140386824744576&#45;&gt;o140386824753536 -->\n<g id=\"edge5\" class=\"edge\">\n<title>o140386824744576&#45;&gt;o140386824753536</title>\n<path fill=\"none\" stroke=\"black\" d=\"M175.71,-252.84C177.78,-242.28 181.78,-229.27 189.5,-220 196.34,-211.78 205.55,-205.18 214.98,-199.99\"/>\n<polygon fill=\"black\" stroke=\"black\" points=\"216.45,-203.17 223.84,-195.58 213.33,-196.9 216.45,-203.17\"/>\n<text text-anchor=\"middle\" x=\"221.5\" y=\"-223.8\" font-family=\"Times,serif\" font-size=\"14.00\">user_global</text>\n</g>\n<!-- o140386824844544 -->\n<g id=\"node7\" class=\"node\">\n<title>o140386824844544</title>\n<polygon fill=\"#878787\" stroke=\"black\" points=\"375.5,-291 311.5,-291 311.5,-253 375.5,-253 375.5,-291\"/>\n<text text-anchor=\"middle\" x=\"343.5\" y=\"-275.8\" font-family=\"Times,serif\" font-size=\"14.00\">dict</text>\n<text text-anchor=\"middle\" x=\"343.5\" y=\"-260.8\" font-family=\"Times,serif\" font-size=\"14.00\">21 items</text>\n</g>\n<!-- o140386824844544&#45;&gt;o140386824753536 -->\n<g id=\"edge6\" class=\"edge\">\n<title>o140386824844544&#45;&gt;o140386824753536</title>\n<path fill=\"none\" stroke=\"black\" d=\"M333.66,-252.79C327.55,-242.47 319.05,-229.72 309.5,-220 305.75,-216.19 301.55,-212.52 297.2,-209.09\"/>\n<polygon fill=\"black\" stroke=\"black\" points=\"299.5,-206.43 289.38,-203.29 295.33,-212.06 299.5,-206.43\"/>\n<text text-anchor=\"middle\" x=\"352\" y=\"-223.8\" font-family=\"Times,serif\" font-size=\"14.00\">namespace</text>\n</g>\n<!-- o140386825226496 -->\n<g id=\"node8\" class=\"node\">\n<title>o140386825226496</title>\n<polygon fill=\"#878787\" stroke=\"black\" points=\"897,-291 394,-291 394,-253 897,-253 897,-291\"/>\n<text text-anchor=\"middle\" x=\"645.5\" y=\"-275.8\" font-family=\"Times,serif\" font-size=\"14.00\">frame</text>\n<text text-anchor=\"middle\" x=\"645.5\" y=\"-260.8\" font-family=\"Times,serif\" font-size=\"14.00\">/var/folders/05/xk850z3d6q904bqtx0pqjr7w0000gn/T/ipykernel_17594/3136101434.py:9</text>\n</g>\n<!-- o140386825226496&#45;&gt;o140386824753536 -->\n<g id=\"edge7\" class=\"edge\">\n<title>o140386825226496&#45;&gt;o140386824753536</title>\n<path fill=\"none\" stroke=\"black\" d=\"M563.22,-252.55C483.01,-234.57 364.16,-207.92 300.87,-193.72\"/>\n<polygon fill=\"black\" stroke=\"black\" points=\"301.72,-190.33 291.19,-191.55 300.19,-197.16 301.72,-190.33\"/>\n<text text-anchor=\"middle\" x=\"497\" y=\"-223.8\" font-family=\"Times,serif\" font-size=\"14.00\">f_locals</text>\n</g>\n<!-- o140386824737456 -->\n<g id=\"node9\" class=\"node\">\n<title>o140386824737456</title>\n<polygon fill=\"#4c4c4c\" stroke=\"black\" points=\"253,-469 0,-469 0,-431 253,-431 253,-469\"/>\n<text text-anchor=\"middle\" x=\"126.5\" y=\"-453.8\" font-family=\"Times,serif\" font-size=\"14.00\" fill=\"white\">ZMQInteractiveShell</text>\n<text text-anchor=\"middle\" x=\"126.5\" y=\"-438.8\" font-family=\"Times,serif\" font-size=\"14.00\" fill=\"white\">&lt;ipykernel.zmqshell.ZMQInteractiveShell </text>\n</g>\n<!-- o140386824737456&#45;&gt;o140386824753280 -->\n<g id=\"edge10\" class=\"edge\">\n<title>o140386824737456&#45;&gt;o140386824753280</title>\n<path fill=\"none\" stroke=\"black\" d=\"M126.5,-430.55C126.5,-419.25 126.5,-404.52 126.5,-391.61\"/>\n<polygon fill=\"black\" stroke=\"black\" points=\"130,-391.94 126.5,-381.94 123,-391.94 130,-391.94\"/>\n<text text-anchor=\"middle\" x=\"150.5\" y=\"-401.8\" font-family=\"Times,serif\" font-size=\"14.00\">__dict__</text>\n</g>\n<!-- o140386824810656 -->\n<g id=\"node10\" class=\"node\">\n<title>o140386824810656</title>\n<polygon fill=\"#4c4c4c\" stroke=\"black\" points=\"470,-380 217,-380 217,-342 470,-342 470,-380\"/>\n<text text-anchor=\"middle\" x=\"343.5\" y=\"-364.8\" font-family=\"Times,serif\" font-size=\"14.00\" fill=\"white\">IPCompleter</text>\n<text text-anchor=\"middle\" x=\"343.5\" y=\"-349.8\" font-family=\"Times,serif\" font-size=\"14.00\" fill=\"white\">&lt;IPython.core.completer.IPCompleter obje</text>\n</g>\n<!-- o140386824810656&#45;&gt;o140386824844544 -->\n<g id=\"edge12\" class=\"edge\">\n<title>o140386824810656&#45;&gt;o140386824844544</title>\n<path fill=\"none\" stroke=\"black\" d=\"M343.5,-341.55C343.5,-330.25 343.5,-315.52 343.5,-302.61\"/>\n<polygon fill=\"black\" stroke=\"black\" points=\"347,-302.94 343.5,-292.94 340,-302.94 347,-302.94\"/>\n<text text-anchor=\"middle\" x=\"367.5\" y=\"-312.8\" font-family=\"Times,serif\" font-size=\"14.00\">__dict__</text>\n</g>\n<!-- o140386763418304 -->\n<g id=\"node11\" class=\"node\">\n<title>o140386763418304</title>\n<polygon fill=\"#4c4c4c\" stroke=\"black\" points=\"1231,-380 488,-380 488,-342 1231,-342 1231,-380\"/>\n<text text-anchor=\"middle\" x=\"859.5\" y=\"-364.8\" font-family=\"Times,serif\" font-size=\"14.00\" fill=\"white\">frame</text>\n<text text-anchor=\"middle\" x=\"859.5\" y=\"-349.8\" font-family=\"Times,serif\" font-size=\"14.00\" fill=\"white\">/Users/taotom/Documents/workspaces/work/pywork/venv/devops&#45;venv/lib/python3.9/site&#45;packages/IPython/core/displayhook.py:268</text>\n</g>\n<!-- o140386763418304&#45;&gt;o140386825226496 -->\n<g id=\"edge13\" class=\"edge\">\n<title>o140386763418304&#45;&gt;o140386825226496</title>\n<path fill=\"none\" stroke=\"black\" d=\"M814.12,-341.55C781.2,-328.17 736.49,-309.99 701.38,-295.72\"/>\n<polygon fill=\"black\" stroke=\"black\" points=\"702.8,-292.52 692.22,-291.99 700.17,-299 702.8,-292.52\"/>\n</g>\n</g>\n</svg>\n",
      "text/plain": "<graphviz.sources.Source at 0x7fae5a8d97c0>"
     },
     "execution_count": 3,
     "metadata": {},
     "output_type": "execute_result"
    }
   ],
   "source": [
    "\n",
    "import objgraph\n",
    "\n",
    "a = [1, 2, 3]\n",
    "b = [4, 5, 6]\n",
    "\n",
    "a.append(b)\n",
    "b.append(a)\n",
    "\n",
    "objgraph.show_backrefs([a])"
   ],
   "metadata": {
    "collapsed": false
   }
  },
  {
   "cell_type": "code",
   "execution_count": 4,
   "outputs": [
    {
     "name": "stdout",
     "output_type": "stream",
     "text": [
      "{Graph A nodes ['B', 'C'], Graph B nodes ['A', 'E'], Graph C nodes ['E'], Graph E nodes []}\n",
      "{Graph D nodes ['F'], Graph F nodes ['D']}\n"
     ]
    }
   ],
   "source": [
    "from typing import Set\n",
    "\n",
    "\n",
    "class Graph:\n",
    "    def __init__(self, value, nodes=None):\n",
    "        self._value = value\n",
    "        self._nodes: list = [] if nodes is None else nodes\n",
    "\n",
    "    @property\n",
    "    def value(self):\n",
    "        return self._value\n",
    "\n",
    "    @property\n",
    "    def nodes(self):\n",
    "        return self._nodes\n",
    "\n",
    "    def node_add(self, node):\n",
    "        self._nodes.append(node)\n",
    "\n",
    "    def node_adds(self, nodes):\n",
    "        self._nodes.extend(nodes)\n",
    "\n",
    "    def node_del(self, node):\n",
    "        self._nodes.remove(node)\n",
    "\n",
    "    def __str__(self):\n",
    "        return \"Graph {} nodes {}\".format(self._value, [node.value for node in self.nodes])\n",
    "\n",
    "    def __repr__(self):\n",
    "        return self.__str__()\n",
    "\n",
    "\n",
    "def dfs(start: Graph, includes: Set[Graph] = None) -> Set[Graph]:\n",
    "    if includes is None:\n",
    "        includes = set()\n",
    "    if start in includes:\n",
    "        return includes\n",
    "    includes.add(start)\n",
    "    for s in start.nodes:\n",
    "        includes.update(dfs(s, includes))\n",
    "    return includes\n",
    "\n",
    "\n",
    "if __name__ == '__main__':\n",
    "    A = Graph('A')\n",
    "    B = Graph('B')\n",
    "    C = Graph('C')\n",
    "    D = Graph('D')\n",
    "    E = Graph('E')\n",
    "    F = Graph('F')\n",
    "    has_nodes = {A, B, C, D, E, F}\n",
    "\n",
    "    # A->B->E\n",
    "    #  ->C->E\n",
    "    # B->A\n",
    "    # D->F\n",
    "    # F->D\n",
    "    A.node_adds([B, C])\n",
    "    B.node_adds([A, E])\n",
    "    C.node_adds([E])\n",
    "    D.node_adds([F])\n",
    "    F.node_adds([D])\n",
    "    graph_nodes = dfs(A, set())\n",
    "    # OUT: {Graph B nodes ['A', 'E'], Graph E nodes [], Graph C nodes ['E'], Graph A nodes ['B', 'C']}\n",
    "    print(graph_nodes)\n",
    "    # OUT: {Graph F nodes ['D'], Graph D nodes ['F']}\n",
    "    print(has_nodes - graph_nodes)"
   ],
   "metadata": {
    "collapsed": false
   }
  },
  {
   "cell_type": "code",
   "execution_count": 5,
   "outputs": [
    {
     "name": "stdout",
     "output_type": "stream",
     "text": [
      "[1, [...]]\n",
      "2\n"
     ]
    }
   ],
   "source": [
    "x = [1]\n",
    "x.append(x)\n",
    "print(x)\n",
    "print(len(x))\n",
    "\n",
    "# x 指向一个列表，列表的第一个元素为 1；执行了 append 操作后，第二个元素又反过来指向 x，即指向了 x 所指向的列表，因此形成了一个无限嵌套的循环：[1, [1, [1, [1, …]]]]。不过，虽然 x 是无限嵌套的列表，但 x.append(x) 的操作，并不会递归遍历其中的每一个元素。它只是扩充了原列表的第二个元素，并将其指向 x，因此不会出现 stack overflow 的问题，自然不会报错\n",
    "# 为什么 len(x) 返回的是 2？我们还是来看 x，虽然它是无限嵌套的列表，但 x 的 top level 只有 2 个元素组成，第一个元素为 1，第二个元素为指向自身的列表，因此 len(x) 返回 2。"
   ],
   "metadata": {
    "collapsed": false
   }
  },
  {
   "cell_type": "code",
   "execution_count": null,
   "outputs": [],
   "source": [],
   "metadata": {
    "collapsed": false
   }
  }
 ],
 "metadata": {
  "kernelspec": {
   "display_name": "Python 3",
   "language": "python",
   "name": "python3"
  },
  "language_info": {
   "codemirror_mode": {
    "name": "ipython",
    "version": 2
   },
   "file_extension": ".py",
   "mimetype": "text/x-python",
   "name": "python",
   "nbconvert_exporter": "python",
   "pygments_lexer": "ipython2",
   "version": "2.7.6"
  }
 },
 "nbformat": 4,
 "nbformat_minor": 0
}
